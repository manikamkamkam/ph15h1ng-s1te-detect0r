{
  "cells": [
    {
      "cell_type": "markdown",
      "source": [
        "Code below will visit the websites to check if they are reachable or active."
      ],
      "metadata": {
        "id": "EpOiA8x9xqwI"
      }
    },
    {
      "cell_type": "code",
      "execution_count": null,
      "metadata": {
        "colab": {
          "base_uri": "https://localhost:8080/"
        },
        "id": "hLrm53KnttK0",
        "outputId": "9082fbca-7652-4920-9b1a-c2835d2ca277"
      },
      "outputs": [
        {
          "name": "stderr",
          "output_type": "stream",
          "text": [
            "WARNING:urllib3.connection:Certificate did not match expected hostname: 111www.cfd. Certificate: {'subject': ((('commonName', '6r5bb.cfd'),),), 'issuer': ((('countryName', 'US'),), (('organizationName', \"Let's Encrypt\"),), (('commonName', 'R3'),)), 'version': 3, 'serialNumber': '04B867AB0A824EF7507169DA3422AC6375DC', 'notBefore': 'Jun 27 13:15:38 2023 GMT', 'notAfter': 'Sep 25 13:15:37 2023 GMT', 'subjectAltName': (('DNS', '6r5aa.cfd'), ('DNS', '6r5bb.cfd'), ('DNS', '6r5cc.cfd'), ('DNS', '6r5dd.cfd'), ('DNS', '6r5ee.cfd'), ('DNS', '6r5ff.cfd'), ('DNS', '6r5gg.cfd'), ('DNS', '6r5hh.cfd'), ('DNS', '6r5ii.cfd'), ('DNS', '6r5jj.cfd'), ('DNS', '6r5kk.cfd'), ('DNS', '6r5ll.cfd')), 'OCSP': ('http://r3.o.lencr.org',), 'caIssuers': ('http://r3.i.lencr.org/',)}\n"
          ]
        },
        {
          "name": "stdout",
          "output_type": "stream",
          "text": [
            "Visited websites: 164\n",
            "Valid websites: 113\n",
            "Not valid websites: 39\n",
            "Errors: 12\n"
          ]
        }
      ],
      "source": [
        "import csv\n",
        "import requests\n",
        "\n",
        "# Initialize counters\n",
        "visited_count = 0\n",
        "valid_count = 0\n",
        "not_valid_count = 0\n",
        "error_count = 0\n",
        "\n",
        "# Initialize empty lists\n",
        "X = []\n",
        "y = []\n",
        "\n",
        "# Open CSV file\n",
        "with open('/content/drive/MyDrive/FYP_Testing&WhatNot/website list - Sheet1-5 - website list - Sheet1-5.csv', newline='') as f:\n",
        "    reader = csv.reader(f)\n",
        "    next(reader) # Skip header row\n",
        "\n",
        "    # Loop over each row in CSV\n",
        "    for row in reader:\n",
        "        url = row[0]\n",
        "        label = row[1]\n",
        "        try:\n",
        "            # Send request to website\n",
        "            response = requests.get(url)\n",
        "\n",
        "            # Check if website is valid\n",
        "            if response.status_code == 200:\n",
        "                valid_count += 1\n",
        "                X.append(url)\n",
        "                y.append(label)\n",
        "            else:\n",
        "                not_valid_count += 1\n",
        "        except:\n",
        "            error_count += 1\n",
        "\n",
        "        visited_count += 1\n",
        "\n",
        "# Print counters\n",
        "print(\"Visited websites:\", visited_count)\n",
        "print(\"Valid websites:\", valid_count)\n",
        "print(\"Not valid websites:\", not_valid_count)\n",
        "print(\"Errors:\", error_count)\n"
      ]
    },
    {
      "cell_type": "markdown",
      "source": [
        "Code below checks if the website is active and valid."
      ],
      "metadata": {
        "id": "gAAK0UiMxxeh"
      }
    },
    {
      "cell_type": "code",
      "execution_count": null,
      "metadata": {
        "colab": {
          "base_uri": "https://localhost:8080/"
        },
        "id": "ryFfuyyJ38jl",
        "outputId": "d13a26a3-ee97-4d9b-a01b-bffd64cd7779"
      },
      "outputs": [
        {
          "name": "stdout",
          "output_type": "stream",
          "text": [
            "https://irit-therapy.com/wp-admin/ent.html is a valid website\n",
            "https://bfj.pages.dev/ is a valid website\n",
            "https://google.com is a valid website\n",
            "https://bxc.pages.dev/ is a valid website\n",
            "http://facebook.com is a valid website\n",
            "http://reddit.com is a valid website\n",
            "https://wwxhajudjgwjklckvzgs6.web.app/ is a valid website\n",
            "http://site9548676.92.webydo.com/ is a valid website\n",
            "https://wwxhajudjgwjklckvzgs1.web.app/ is a valid website\n",
            "https://cf-ipfs.com/ipfs/QmchiPZKHT5fSC9DRvMz3aNsBSMLANbM1fNmCBk5kpszsx is a valid website\n",
            "https://cloudflare-ipfs.com/ipfs/bafybeigvnd42jom7e3wimgpo2abup6bsnp53cbes2gkjsp4nuyidanryv4 is a valid website\n",
            "https://www.mmu.edu.my/ is a valid website\n",
            "https://www.digitalocean.com/ is a valid website\n",
            "https://realpython.com/ is a valid website\n",
            "https://www.kdnuggets.com/ is a valid website\n",
            "https://homeapks.com/wp-content/WesBav2/ is a valid website\n",
            "http://sertimadioprtugachurigiencocert.clinicauruguai.com/ is a valid website\n",
            "https://www.access-jaccs.eakqkkw.cn/Logins/mylogin.jsp is a valid website\n",
            "http://service-orange.ce94196.tw1.ru/Or22/Orange22/ is a valid website\n",
            "https://cf-ipfs.com/ipfs/QmUV3gmBqQg2A8djHMEGxfe4MBU2J9u1Gge6n7L9gux2pa is a valid website\n",
            "https://fb-details1000854.web.app/ is a valid website\n",
            "https://www.tesdi.mx/pack/ is a valid website\n",
            "https://wwxhajudjgwjklckvzgs23.web.app/ is a valid website\n",
            "https://wwxhajudjgwjklckvzgs22.web.app/ is a valid website\n",
            "https://ladmcu.firebaseapp.com/ is a valid website\n",
            "https://gateway.ipfs.io/ipfs/bafybeic6sjz65ptdmfzxsj4nfboyyu4c7t5kwz5uwqh6tr7rfkdhw737dm/g46h-0o-0dol3-05gkj-95ghw-enfh-934ufhf.html is not a valid website\n",
            "https://postal-services.s3-tastewp.com/USPS/USPS/torsion/ is a valid website\n",
            "https://ladmcu.web.app/ is a valid website\n",
            "http://wxshunxuan-polyimidefilm.com is a valid website\n",
            "https://bafybeib2eolllxfk36vyli7cbtl3bv6bait7i55r5jpbdgkuuowrxuy2yu.ipfs.cf-ipfs.com/TransferXLL.html is a valid website\n",
            "https://wwxhajudjgwjklckvzgs23.firebaseapp.com/ is a valid website\n",
            "https://cloudflare-ipfs.com/ipfs/bafybeicq76xo6zf3veq7toixj7t57zqm7ytcb7ambnqoe4wxkkxilzcvyu is a valid website\n",
            "https://cf-ipfs.com/ipfs/QmSFbq9DcpKW65ngGCkVTM4UqUcLUiRmfqvRETBLUdSkTE/TransferXLL.html is a valid website\n",
            "https://cf-ipfs.com/ipfs/QmdgutDCeufqs8i2S3pereMYEEn5P4QEojtdvbksW6nW3i/new is a valid website\n",
            "https://ipfs.eth.aragon.network/ipfs/bafybeif65xcjv5hq2lpmhjjhaufqkx3hps5vjd5entcixn46ilofmsvs4i/roundcube is a valid website\n",
            "http://wyprawy.cykloid.pl is a valid website\n",
            "https://wwxhajudjgwjklckvzgs21.web.app/ is a valid website\n",
            "http://onnonetworks.com/ is a valid website\n",
            "https://fre4style.za.com//ws/?email=redacted@abuse.ionos.com is a valid website\n",
            "https://apptuts.bio/recarregar-celular is a valid website\n",
            "https://cloudflare-ipfs.com/ipfs/bafybeif65xcjv5hq2lpmhjjhaufqkx3hps5vjd5entcixn46ilofmsvs4i/yahoo/ is a valid website\n",
            "http://wyszukiwarki.info is a valid website\n",
            "http://wz.37.com is a valid website\n",
            "http://wz.37wan.com is a valid website\n",
            "https://cloudflare-ipfs.com/ipfs/bafybeif65xcjv5hq2lpmhjjhaufqkx3hps5vjd5entcixn46ilofmsvs4i/others is not a valid website\n",
            "http://malaysianfootprint.blogspot.com/ is a valid website\n",
            "http://ca43120.tw1.ru/nvmeca/pages/region.php is a valid website\n",
            "https://github.com/ is a valid website\n",
            "https://53467michnoul345667.web.app/ is a valid website\n",
            "https://53467michnoul345667.firebaseapp.com/ is a valid website\n",
            "http://yourgracechurch.ccbchurch.com is a valid website\n",
            "https://www.armor-iimak.com.br is a valid website\n",
            "https://actvebnpapp.web.app/ is a valid website\n",
            "https://oct82.com/ is a valid website\n",
            "http://yourhotperfume.com is a valid website\n",
            "https://blocksync.web.app/ is a valid website\n",
            "https://obmen.click/ is a valid website\n",
            "http://breton-gille.com/hb/ is a valid website\n",
            "http://breton-gille.com/hb is a valid website\n",
            "http://racingallesand.wpenginepowered.com/ is a valid website\n",
            "https://transact-nzta.web.app/ is a valid website\n",
            "https://outh-bitpanda.web.app/ is a valid website\n",
            "http://mercedesbenzsl.wpenginepowered.com/ is a valid website\n",
            "https://www.bing.com/?toWww=1&redig=813766FB1BD4460292C03CE53D9D33E4 is a valid website\n",
            "https://camsys.mmu.edu.my/ is a valid website\n",
            "https://camsyscrm.mmu.edu.my/ is a valid website\n",
            "https://tryhackme.com is a valid website\n",
            "https://malaysia.yahoo.com/?p=us&guccounter=1 is a valid website\n",
            "https://www.microsoft.com/ is a valid website\n",
            "http://enzoferrari356.wpenginepowered.com/ is a valid website\n",
            "https://www.youtube.com is a valid website\n",
            "https://www.wikipedia.org is a valid website\n",
            "https://www.ted.com is a valid website\n",
            "https://stackoverflow.com is a valid website\n",
            "https://soyacincau.com is a valid website\n",
            "https://cilisos.my is a valid website\n",
            "https://siakapkeli.my is a valid website\n",
            "https://www.baidu.com is a valid website\n",
            "https://www.carousell.com.my is a valid website\n",
            "https://www.cimbclicks.com.my is a valid website\n",
            "https://internet.ocbc.com.my/internet-banking/LoginV2/Login?rc=INB is a valid website\n",
            "https://ugde.magichecoccole.com/de/ugde/79fVEv8XxeVx7491/login.php?Nk65L7l2kcar75cI7f00eJ7ybyI0rpQh0w16x7P1qFSQQtcmdZKCZFzJikQ1gZHRi3wQtl9l6nCHOsxDcDw6dTrguz7tF7mixwY8hgZqWPRC27sSrMwiBKeA#781e5e245d69b566979b86e28d23f2c7%23781e5e245d69b566979b86e28d23f2c7%23781e5e245d69b566979b86e28d23f2c7 is a valid website\n",
            "https://tinyurl.com/yra5kx55 is a valid website\n",
            "https://controlitunesid01736549-apple.azurewebsites.net/Bill.php is not a valid website\n",
            "http://43.153.100.119 is a valid website\n",
            "http://ianchai.lomaikai.com is a valid website\n",
            "http://103.80.134.85 is a valid website\n",
            "https://mmuexpert.mmu.edu.my/ianchai is a valid website\n",
            "http://ianchai.lomaikai.com/sdba/ is a valid website\n",
            "http://ianchaiwriting.50megs.com is a valid website\n",
            "http://ianchai.lomaikai.com/How_to_use_gdb_to_test_your_program.html is a valid website\n",
            "https://facbok-logncmjvmdk.rgsmod2.cfd/vhsfhqpdhdxih1/ is a valid website\n",
            "https://1blu.nabumbo.com/de/ugde/79fVEv8XxeVx7663/login.php is a valid website\n",
            "http://brescianacarrelli.it/commande/commande/ is a valid website\n",
            "http://cloudflare-ipfs.com/ipfs/bafybeidm57x2nzjkamcvlcydl3czskwahbenkjqygaxmxfwuyqld7rekp4 is a valid website\n",
            "http://bafybeiekuj5hjv65vkzuujsqjm6npjlclh35u3jjqqtakieowszrdpiy7q.ipfs.cf-ipfs.com/ is a valid website\n",
            "http://matemask.top is not a valid website\n",
            "https://gateway.ipfs.io/ipfs/QmaNx6UtZdzf2bAAnGjkCdvy8TUvMQZkqWu7B26AuvouXq is a valid website\n",
            "http://centro-activation-metaa.liveblog365.com/ is a valid website\n",
            "https://jablies.web.app/ is a valid website\n",
            "https://jablies.firebaseapp.com/ is a valid website\n",
            "https://johnlewis-review.web.app/ is a valid website\n",
            "https://johnlewis-review.firebaseapp.com/ is a valid website\n",
            "https://klik-dsini-untuk-aktivasi.web.app/ is not a valid website\n",
            "https://klik-dsini-untuk-aktivasi.firebaseapp.com/ is not a valid website\n",
            "https://layanan-aktivasi-bifast-bca.web.app/ is not a valid website\n",
            "https://layanan-aktivasi-bifast-bca.firebaseapp.com/ is not a valid website\n",
            "https://meta-business-base-a57d0.web.app/ is a valid website\n",
            "https://meta-business-base-a57d0.firebaseapp.com/ is a valid website\n",
            "https://meta-business-case-44ccd.web.app/ is not a valid website\n",
            "https://meta-business-case-44ccd.firebaseapp.com/ is not a valid website\n",
            "https://meta-business-case-77cd6.web.app/ is not a valid website\n",
            "https://meta-business-case-77cd6.firebaseapp.com/ is not a valid website\n",
            "https://meta-business-fb-ads.web.app/ is not a valid website\n",
            "https://meta-business-fb-ads.firebaseapp.com/ is not a valid website\n",
            "https://notice-daum.web.app/ is not a valid website\n",
            "https://notice-daum.firebaseapp.com/ is not a valid website\n",
            "https://overviews-expiration.web.app/ is a valid website\n",
            "https://overviews-expiration.firebaseapp.com/ is a valid website\n",
            "https://project-4619833971815404853.web.app/ is not a valid website\n",
            "https://project-4619833971815404853.firebaseapp.com/ is not a valid website\n",
            "https://fr.flavour-loud.online/?pwd=ca is a valid website\n",
            "https://quiveux-double.web.app/ is a valid website\n",
            "https://quiveux-double.firebaseapp.com/ is a valid website\n",
            "https://swisspasver.web.app/ is a valid website\n",
            "https://swisspasver.firebaseapp.com/ is a valid website\n",
            "https://qmc.pages.dev/ is a valid website\n",
            "http://ianjuliane.blogspot.com is a valid website\n"
          ]
        }
      ],
      "source": [
        "import csv\n",
        "import requests\n",
        "\n",
        "url_list = []\n",
        "\n",
        "with open('/content/drive/MyDrive/FYP_Testing&WhatNot/website list - Sheet1-5 - website list - Sheet1-5.csv', 'r') as f:\n",
        "    reader = csv.reader(f)\n",
        "    next(reader)  # skip header row\n",
        "    for row in reader:\n",
        "        url = row[0]\n",
        "        url_list.append(url)\n",
        "\n",
        "for url in url_list:\n",
        "    try:\n",
        "        r = requests.get(url)\n",
        "        if r.status_code == 200:\n",
        "            print(url, \"is a valid website\")\n",
        "        else:\n",
        "            print(url, \"is not a valid website\")\n",
        "    except:\n",
        "        print(url, \"is not a valid website\")\n"
      ]
    },
    {
      "cell_type": "markdown",
      "source": [
        "Code below does the mounting process on Google Drive."
      ],
      "metadata": {
        "id": "-jrEoUxhx2_b"
      }
    },
    {
      "cell_type": "code",
      "execution_count": null,
      "metadata": {
        "colab": {
          "base_uri": "https://localhost:8080/"
        },
        "id": "po4NuKYYq-k4",
        "outputId": "c6fd1792-f0ee-417e-8d74-e5d52ef472aa"
      },
      "outputs": [
        {
          "name": "stdout",
          "output_type": "stream",
          "text": [
            "Mounted at /content/drive/\n"
          ]
        }
      ],
      "source": [
        "from google.colab import drive\n",
        "drive.mount('/content/drive/')"
      ]
    },
    {
      "cell_type": "markdown",
      "source": [
        "Code below will get the features from the websites in the \"website list - Sheet1-5 - website list - Sheet1-5.csv\" file and output the features into the \"elijah_features.csv\" file.\n",
        "\n",
        "The features that are being extracted will be the url (duh), some keywords that are consistent among phishing websites [\"login\", \"password\", \"verify\", \"account\", \"security\", \"banking\", \"credit card\"], length of the JavaScript code and the specific JavaScript code that are usually found with phishing websites."
      ],
      "metadata": {
        "id": "EJi66w51x82o"
      }
    },
    {
      "cell_type": "code",
      "execution_count": null,
      "metadata": {
        "colab": {
          "base_uri": "https://localhost:8080/"
        },
        "id": "9A5oWF6sEjpX",
        "outputId": "ccf88140-9ad4-47e2-b171-9f29d209b39c"
      },
      "outputs": [
        {
          "output_type": "stream",
          "name": "stderr",
          "text": [
            "WARNING:urllib3.connection:Certificate did not match expected hostname: www.access-jaccs.eakqkkw.cn. Certificate: {'subject': ((('commonName', 'www.accout-amazoine.ttnfkfv.cn'),),), 'issuer': ((('countryName', 'US'),), (('organizationName', \"Let's Encrypt\"),), (('commonName', 'R3'),)), 'version': 3, 'serialNumber': '03CC45EF2CCAC85DB3B48F4E34AAF827919E', 'notBefore': 'Jun 29 12:31:53 2023 GMT', 'notAfter': 'Sep 27 12:31:52 2023 GMT', 'subjectAltName': (('DNS', 'www.accout-amazoine.ttnfkfv.cn'),), 'OCSP': ('http://r3.o.lencr.org',), 'caIssuers': ('http://r3.i.lencr.org/',)}\n",
            "<ipython-input-5-282c4ed0bcd1>:18: MarkupResemblesLocatorWarning: The input looks more like a filename than markup. You may want to open this file and pass the filehandle into Beautiful Soup.\n",
            "  soup = BeautifulSoup(response.text, 'html.parser')\n"
          ]
        }
      ],
      "source": [
        "import requests\n",
        "from bs4 import BeautifulSoup\n",
        "import re\n",
        "import pandas as pd\n",
        "import time\n",
        "\n",
        "# Define a function to extract phishing site features\n",
        "def extract_features(url):\n",
        "    try:\n",
        "        start_time = time.time()\n",
        "        response = requests.get(url, timeout=5)  # Set timeout to 5 seconds\n",
        "\n",
        "        # Check if the process exceeds the time limit\n",
        "        elapsed_time = time.time() - start_time\n",
        "        if elapsed_time > 300:  # Stop gathering data after 5 minutes (300 seconds)\n",
        "            return None\n",
        "\n",
        "        soup = BeautifulSoup(response.text, 'html.parser')\n",
        "        scripts = soup.find_all('script')\n",
        "\n",
        "        # Check if there are scripts to extract features from\n",
        "        if len(scripts) == 0:\n",
        "            return None\n",
        "\n",
        "        script_content = [script.text for script in scripts]\n",
        "        script_string = \"\\n\".join(script_content)\n",
        "\n",
        "        features = []\n",
        "        # Add text detection feature\n",
        "        keywords = [\"login\", \"password\", \"verify\", \"account\", \"security\", \"banking\", \"credit card\"]\n",
        "        for keyword in keywords:\n",
        "            features.append(int(keyword in response.text.lower()))\n",
        "\n",
        "        # Add JavaScript features\n",
        "        features.append(len(script_string))\n",
        "        features.append(len(scripts))\n",
        "        features.append(len(re.findall(r\"\\bfunction\\b\", script_string)))\n",
        "        features.append(len(re.findall(r\"\\beval\\b\", script_string)))\n",
        "        features.append(len(re.findall(r\"\\bwindow\\b\", script_string)))\n",
        "        features.append(len(re.findall(r\"\\bsetTimeout\\b\", script_string)))\n",
        "        features.append(len(re.findall(r\"\\bsetInterval\\b\", script_string)))\n",
        "        features.append(len(re.findall(r\"\\bexec\\b\", script_string)))\n",
        "        features.append(len(re.findall(r\"\\bcookie\\b\", script_string)))\n",
        "        features.append(len(re.findall(r\"\\blocation\\b\", script_string)))\n",
        "        features.append(len(re.findall(r\"\\bXMLHttpRequest\\b\", script_string)))\n",
        "        features.append(len(re.findall(r\"\\biframe\\b\", script_string)))\n",
        "        features.append(len(re.findall(r\"\\bdocument\\.cookie\\b\", script_string)))\n",
        "        features.append(len(re.findall(r\"\\bunescape\\b\", script_string)))\n",
        "        features.append(len(re.findall(r\"\\bfromCharCode\\b\", script_string)))\n",
        "\n",
        "        return features\n",
        "    except:\n",
        "        return None\n",
        "\n",
        "# Load the CSV file with original data\n",
        "original_df = pd.read_csv(\"/content/drive/MyDrive/FYP_Testing&WhatNot/website list - Sheet1-5 - website list - Sheet1-5.csv\")\n",
        "\n",
        "# Create an empty list to store the rows\n",
        "rows = []\n",
        "\n",
        "# Loop through each URL in the original data\n",
        "for i, row in original_df.iterrows():\n",
        "    url = row[\"url\"]\n",
        "    label = row[\"label\"]\n",
        "\n",
        "    # Extract features for the URL\n",
        "    features = extract_features(url)\n",
        "\n",
        "    # Check if the process exceeded the time limit or no features were extracted\n",
        "    if features is None:\n",
        "        continue\n",
        "\n",
        "    # Create a dictionary representing a row in the CSV file\n",
        "    row_dict = {\n",
        "        \"url\": url,\n",
        "        \"label\": label,\n",
        "        \"text_detection\": features[0],\n",
        "        \"script_length\": features[1],\n",
        "        \"num_scripts\": features[2],\n",
        "        \"num_functions\": features[3],\n",
        "        \"num_eval\": features[4],\n",
        "        \"num_window\": features[5],\n",
        "        \"num_setTimeout\": features[6],\n",
        "        \"num_setInterval\": features[7],\n",
        "        \"num_exec\": features[8],\n",
        "        \"num_cookie\": features[9],\n",
        "        \"num_location\": features[10],\n",
        "        \"num_XMLHttpRequest\": features[11],\n",
        "        \"num_iframe\": features[12],\n",
        "        \"num_document_cookie\": features[13],\n",
        "        \"num_unescape\": features[14],\n",
        "        \"num_fromCharCode\": features[15]\n",
        "    }\n",
        "\n",
        "    # Append the row dictionary to the list of rows\n",
        "    rows.append(row_dict)\n",
        "\n",
        "# Convert the list of rows to a DataFrame\n",
        "feature_df = pd.DataFrame(rows)\n",
        "\n",
        "# Save the extracted features to a new CSV file\n",
        "feature_df.to_csv(\"/content/drive/MyDrive/FYP_Testing&WhatNot/elijah_features.csv\", index=False)\n",
        "\n"
      ]
    },
    {
      "cell_type": "markdown",
      "source": [
        "Training a model with the Random Forest Classifier - this is a classification problem after all."
      ],
      "metadata": {
        "id": "-ugeqFBe3BRV"
      }
    },
    {
      "cell_type": "code",
      "execution_count": 6,
      "metadata": {
        "colab": {
          "base_uri": "https://localhost:8080/"
        },
        "id": "U-KRV2wBQ3vD",
        "outputId": "3d8b4e2d-32dd-4042-a6ce-7415ca78d0f8"
      },
      "outputs": [
        {
          "output_type": "stream",
          "name": "stdout",
          "text": [
            "Accuracy: 0.8928571428571429\n"
          ]
        }
      ],
      "source": [
        "import pandas as pd\n",
        "from sklearn.model_selection import train_test_split\n",
        "from sklearn.ensemble import RandomForestClassifier\n",
        "from sklearn.metrics import accuracy_score\n",
        "\n",
        "# Load the CSV file with extracted features and labels\n",
        "data_df = pd.read_csv(\"/content/drive/MyDrive/FYP_Testing&WhatNot/elijah_features.csv\")\n",
        "\n",
        "# Separate features (X) and labels (y)\n",
        "X = data_df.drop([\"label\", \"url\"], axis=1)  # Remove the \"label\" and \"url\" columns from X\n",
        "y = data_df[\"label\"]\n",
        "\n",
        "# Split the data into training and testing sets\n",
        "X_train, X_test, y_train, y_test = train_test_split(X, y, test_size=0.2, random_state=42)\n",
        "\n",
        "# Create a Random Forest Classifier\n",
        "rf_classifier = RandomForestClassifier()\n",
        "\n",
        "# Train the classifier on the training data\n",
        "rf_classifier.fit(X_train, y_train)\n",
        "\n",
        "# Make predictions on the test data\n",
        "y_pred = rf_classifier.predict(X_test)\n",
        "\n",
        "# Calculate accuracy\n",
        "accuracy = accuracy_score(y_test, y_pred)\n",
        "print(\"Accuracy:\", accuracy)\n",
        "\n"
      ]
    },
    {
      "cell_type": "markdown",
      "source": [
        "Running the training model on the collected features, can tell that there are a lot of false positives."
      ],
      "metadata": {
        "id": "2lJUqUPj3UaK"
      }
    },
    {
      "cell_type": "code",
      "execution_count": 21,
      "metadata": {
        "colab": {
          "base_uri": "https://localhost:8080/"
        },
        "id": "dE0F2f6rm104",
        "outputId": "a4c7d1bc-6925-4231-e58f-9f289d25e5e6"
      },
      "outputs": [
        {
          "output_type": "stream",
          "name": "stderr",
          "text": [
            "/usr/local/lib/python3.10/dist-packages/sklearn/base.py:439: UserWarning: X does not have valid feature names, but RandomForestClassifier was fitted with feature names\n",
            "  warnings.warn(\n",
            "/usr/local/lib/python3.10/dist-packages/sklearn/base.py:439: UserWarning: X does not have valid feature names, but RandomForestClassifier was fitted with feature names\n",
            "  warnings.warn(\n"
          ]
        },
        {
          "output_type": "stream",
          "name": "stdout",
          "text": [
            "Website: https://irit-therapy.com/wp-admin/ent.html\n",
            "Prediction: safe\n",
            "Label: phishing\n",
            "\n",
            "Website: https://bfj.pages.dev/\n",
            "Prediction: safe\n",
            "Label: phishing\n",
            "\n"
          ]
        },
        {
          "output_type": "stream",
          "name": "stderr",
          "text": [
            "/usr/local/lib/python3.10/dist-packages/sklearn/base.py:439: UserWarning: X does not have valid feature names, but RandomForestClassifier was fitted with feature names\n",
            "  warnings.warn(\n",
            "/usr/local/lib/python3.10/dist-packages/sklearn/base.py:439: UserWarning: X does not have valid feature names, but RandomForestClassifier was fitted with feature names\n",
            "  warnings.warn(\n"
          ]
        },
        {
          "output_type": "stream",
          "name": "stdout",
          "text": [
            "Website: https://bxc.pages.dev/\n",
            "Prediction: safe\n",
            "Label: phishing\n",
            "\n",
            "Website: https://wwxhajudjgwjklckvzgs6.web.app/\n",
            "Prediction: safe\n",
            "Label: phishing\n",
            "\n"
          ]
        },
        {
          "output_type": "stream",
          "name": "stderr",
          "text": [
            "/usr/local/lib/python3.10/dist-packages/sklearn/base.py:439: UserWarning: X does not have valid feature names, but RandomForestClassifier was fitted with feature names\n",
            "  warnings.warn(\n"
          ]
        },
        {
          "output_type": "stream",
          "name": "stdout",
          "text": [
            "Website: https://wwxhajudjgwjklckvzgs1.web.app/\n",
            "Prediction: safe\n",
            "Label: phishing\n",
            "\n"
          ]
        },
        {
          "output_type": "stream",
          "name": "stderr",
          "text": [
            "/usr/local/lib/python3.10/dist-packages/sklearn/base.py:439: UserWarning: X does not have valid feature names, but RandomForestClassifier was fitted with feature names\n",
            "  warnings.warn(\n"
          ]
        },
        {
          "output_type": "stream",
          "name": "stdout",
          "text": [
            "Website: https://cf-ipfs.com/ipfs/QmchiPZKHT5fSC9DRvMz3aNsBSMLANbM1fNmCBk5kpszsx\n",
            "Prediction: safe\n",
            "Label: phishing\n",
            "\n"
          ]
        },
        {
          "output_type": "stream",
          "name": "stderr",
          "text": [
            "/usr/local/lib/python3.10/dist-packages/sklearn/base.py:439: UserWarning: X does not have valid feature names, but RandomForestClassifier was fitted with feature names\n",
            "  warnings.warn(\n"
          ]
        },
        {
          "output_type": "stream",
          "name": "stdout",
          "text": [
            "Website: https://cloudflare-ipfs.com/ipfs/bafybeigvnd42jom7e3wimgpo2abup6bsnp53cbes2gkjsp4nuyidanryv4\n",
            "Prediction: safe\n",
            "Label: phishing\n",
            "\n"
          ]
        },
        {
          "output_type": "stream",
          "name": "stderr",
          "text": [
            "/usr/local/lib/python3.10/dist-packages/sklearn/base.py:439: UserWarning: X does not have valid feature names, but RandomForestClassifier was fitted with feature names\n",
            "  warnings.warn(\n"
          ]
        },
        {
          "output_type": "stream",
          "name": "stdout",
          "text": [
            "Website: http://sertimadioprtugachurigiencocert.clinicauruguai.com/\n",
            "Prediction: safe\n",
            "Label: phishing\n",
            "\n"
          ]
        },
        {
          "output_type": "stream",
          "name": "stderr",
          "text": [
            "/usr/local/lib/python3.10/dist-packages/sklearn/base.py:439: UserWarning: X does not have valid feature names, but RandomForestClassifier was fitted with feature names\n",
            "  warnings.warn(\n",
            "/usr/local/lib/python3.10/dist-packages/sklearn/base.py:439: UserWarning: X does not have valid feature names, but RandomForestClassifier was fitted with feature names\n",
            "  warnings.warn(\n"
          ]
        },
        {
          "output_type": "stream",
          "name": "stdout",
          "text": [
            "Website: http://service-orange.ce94196.tw1.ru/Or22/Orange22/\n",
            "Prediction: safe\n",
            "Label: phishing\n",
            "\n",
            "Website: https://cf-ipfs.com/ipfs/QmUV3gmBqQg2A8djHMEGxfe4MBU2J9u1Gge6n7L9gux2pa\n",
            "Prediction: safe\n",
            "Label: phishing\n",
            "\n"
          ]
        },
        {
          "output_type": "stream",
          "name": "stderr",
          "text": [
            "/usr/local/lib/python3.10/dist-packages/sklearn/base.py:439: UserWarning: X does not have valid feature names, but RandomForestClassifier was fitted with feature names\n",
            "  warnings.warn(\n",
            "/usr/local/lib/python3.10/dist-packages/sklearn/base.py:439: UserWarning: X does not have valid feature names, but RandomForestClassifier was fitted with feature names\n",
            "  warnings.warn(\n"
          ]
        },
        {
          "output_type": "stream",
          "name": "stdout",
          "text": [
            "Website: https://fb-details1000854.web.app/\n",
            "Prediction: safe\n",
            "Label: phishing\n",
            "\n",
            "Website: https://wwxhajudjgwjklckvzgs23.web.app/\n",
            "Prediction: safe\n",
            "Label: phishing\n",
            "\n"
          ]
        },
        {
          "output_type": "stream",
          "name": "stderr",
          "text": [
            "/usr/local/lib/python3.10/dist-packages/sklearn/base.py:439: UserWarning: X does not have valid feature names, but RandomForestClassifier was fitted with feature names\n",
            "  warnings.warn(\n",
            "/usr/local/lib/python3.10/dist-packages/sklearn/base.py:439: UserWarning: X does not have valid feature names, but RandomForestClassifier was fitted with feature names\n",
            "  warnings.warn(\n"
          ]
        },
        {
          "output_type": "stream",
          "name": "stdout",
          "text": [
            "Website: https://wwxhajudjgwjklckvzgs22.web.app/\n",
            "Prediction: safe\n",
            "Label: phishing\n",
            "\n",
            "Website: https://ladmcu.firebaseapp.com/\n",
            "Prediction: safe\n",
            "Label: phishing\n",
            "\n"
          ]
        },
        {
          "output_type": "stream",
          "name": "stderr",
          "text": [
            "/usr/local/lib/python3.10/dist-packages/sklearn/base.py:439: UserWarning: X does not have valid feature names, but RandomForestClassifier was fitted with feature names\n",
            "  warnings.warn(\n",
            "/usr/local/lib/python3.10/dist-packages/sklearn/base.py:439: UserWarning: X does not have valid feature names, but RandomForestClassifier was fitted with feature names\n",
            "  warnings.warn(\n"
          ]
        },
        {
          "output_type": "stream",
          "name": "stdout",
          "text": [
            "Website: https://postal-services.s3-tastewp.com/USPS/USPS/torsion/\n",
            "Prediction: safe\n",
            "Label: phishing\n",
            "\n",
            "Website: https://ladmcu.web.app/\n",
            "Prediction: safe\n",
            "Label: phishing\n",
            "\n"
          ]
        },
        {
          "output_type": "stream",
          "name": "stderr",
          "text": [
            "/usr/local/lib/python3.10/dist-packages/sklearn/base.py:439: UserWarning: X does not have valid feature names, but RandomForestClassifier was fitted with feature names\n",
            "  warnings.warn(\n"
          ]
        },
        {
          "output_type": "stream",
          "name": "stdout",
          "text": [
            "Website: http://wxshunxuan-polyimidefilm.com\n",
            "Prediction: safe\n",
            "Label: phishing\n",
            "\n"
          ]
        },
        {
          "output_type": "stream",
          "name": "stderr",
          "text": [
            "/usr/local/lib/python3.10/dist-packages/sklearn/base.py:439: UserWarning: X does not have valid feature names, but RandomForestClassifier was fitted with feature names\n",
            "  warnings.warn(\n",
            "/usr/local/lib/python3.10/dist-packages/sklearn/base.py:439: UserWarning: X does not have valid feature names, but RandomForestClassifier was fitted with feature names\n",
            "  warnings.warn(\n"
          ]
        },
        {
          "output_type": "stream",
          "name": "stdout",
          "text": [
            "Website: https://bafybeib2eolllxfk36vyli7cbtl3bv6bait7i55r5jpbdgkuuowrxuy2yu.ipfs.cf-ipfs.com/TransferXLL.html\n",
            "Prediction: safe\n",
            "Label: phishing\n",
            "\n",
            "Website: https://wwxhajudjgwjklckvzgs23.firebaseapp.com/\n",
            "Prediction: safe\n",
            "Label: phishing\n",
            "\n"
          ]
        },
        {
          "output_type": "stream",
          "name": "stderr",
          "text": [
            "/usr/local/lib/python3.10/dist-packages/sklearn/base.py:439: UserWarning: X does not have valid feature names, but RandomForestClassifier was fitted with feature names\n",
            "  warnings.warn(\n"
          ]
        },
        {
          "output_type": "stream",
          "name": "stdout",
          "text": [
            "Website: https://cloudflare-ipfs.com/ipfs/bafybeicq76xo6zf3veq7toixj7t57zqm7ytcb7ambnqoe4wxkkxilzcvyu\n",
            "Prediction: safe\n",
            "Label: phishing\n",
            "\n"
          ]
        },
        {
          "output_type": "stream",
          "name": "stderr",
          "text": [
            "/usr/local/lib/python3.10/dist-packages/sklearn/base.py:439: UserWarning: X does not have valid feature names, but RandomForestClassifier was fitted with feature names\n",
            "  warnings.warn(\n",
            "/usr/local/lib/python3.10/dist-packages/sklearn/base.py:439: UserWarning: X does not have valid feature names, but RandomForestClassifier was fitted with feature names\n",
            "  warnings.warn(\n"
          ]
        },
        {
          "output_type": "stream",
          "name": "stdout",
          "text": [
            "Website: https://cf-ipfs.com/ipfs/QmSFbq9DcpKW65ngGCkVTM4UqUcLUiRmfqvRETBLUdSkTE/TransferXLL.html\n",
            "Prediction: safe\n",
            "Label: phishing\n",
            "\n",
            "Website: https://cf-ipfs.com/ipfs/QmdgutDCeufqs8i2S3pereMYEEn5P4QEojtdvbksW6nW3i/new\n",
            "Prediction: safe\n",
            "Label: phishing\n",
            "\n"
          ]
        },
        {
          "output_type": "stream",
          "name": "stderr",
          "text": [
            "/usr/local/lib/python3.10/dist-packages/sklearn/base.py:439: UserWarning: X does not have valid feature names, but RandomForestClassifier was fitted with feature names\n",
            "  warnings.warn(\n",
            "/usr/local/lib/python3.10/dist-packages/sklearn/base.py:439: UserWarning: X does not have valid feature names, but RandomForestClassifier was fitted with feature names\n",
            "  warnings.warn(\n"
          ]
        },
        {
          "output_type": "stream",
          "name": "stdout",
          "text": [
            "Website: http://wyprawy.cykloid.pl\n",
            "Prediction: safe\n",
            "Label: phishing\n",
            "\n",
            "Website: https://wwxhajudjgwjklckvzgs21.web.app/\n",
            "Prediction: safe\n",
            "Label: phishing\n",
            "\n"
          ]
        },
        {
          "output_type": "stream",
          "name": "stderr",
          "text": [
            "/usr/local/lib/python3.10/dist-packages/sklearn/base.py:439: UserWarning: X does not have valid feature names, but RandomForestClassifier was fitted with feature names\n",
            "  warnings.warn(\n"
          ]
        },
        {
          "output_type": "stream",
          "name": "stdout",
          "text": [
            "Website: https://fre4style.za.com//ws/?email=redacted@abuse.iosafes.com\n",
            "Prediction: safe\n",
            "Label: phishing\n",
            "\n"
          ]
        },
        {
          "output_type": "stream",
          "name": "stderr",
          "text": [
            "/usr/local/lib/python3.10/dist-packages/sklearn/base.py:439: UserWarning: X does not have valid feature names, but RandomForestClassifier was fitted with feature names\n",
            "  warnings.warn(\n",
            "/usr/local/lib/python3.10/dist-packages/sklearn/base.py:439: UserWarning: X does not have valid feature names, but RandomForestClassifier was fitted with feature names\n",
            "  warnings.warn(\n"
          ]
        },
        {
          "output_type": "stream",
          "name": "stdout",
          "text": [
            "Website: https://apptuts.bio/recarregar-celular\n",
            "Prediction: safe\n",
            "Label: phishing\n",
            "\n",
            "Website: https://cloudflare-ipfs.com/ipfs/bafybeif65xcjv5hq2lpmhjjhaufqkx3hps5vjd5entcixn46ilofmsvs4i/yahoo/\n",
            "Prediction: safe\n",
            "Label: phishing\n",
            "\n"
          ]
        },
        {
          "output_type": "stream",
          "name": "stderr",
          "text": [
            "/usr/local/lib/python3.10/dist-packages/sklearn/base.py:439: UserWarning: X does not have valid feature names, but RandomForestClassifier was fitted with feature names\n",
            "  warnings.warn(\n"
          ]
        },
        {
          "output_type": "stream",
          "name": "stdout",
          "text": [
            "Website: http://wyszukiwarki.info\n",
            "Prediction: safe\n",
            "Label: phishing\n",
            "\n"
          ]
        },
        {
          "output_type": "stream",
          "name": "stderr",
          "text": [
            "/usr/local/lib/python3.10/dist-packages/sklearn/base.py:439: UserWarning: X does not have valid feature names, but RandomForestClassifier was fitted with feature names\n",
            "  warnings.warn(\n"
          ]
        },
        {
          "output_type": "stream",
          "name": "stdout",
          "text": [
            "Website: http://wz.37.com\n",
            "Prediction: safe\n",
            "Label: phishing\n",
            "\n"
          ]
        },
        {
          "output_type": "stream",
          "name": "stderr",
          "text": [
            "/usr/local/lib/python3.10/dist-packages/sklearn/base.py:439: UserWarning: X does not have valid feature names, but RandomForestClassifier was fitted with feature names\n",
            "  warnings.warn(\n"
          ]
        },
        {
          "output_type": "stream",
          "name": "stdout",
          "text": [
            "Website: http://wz.37wan.com\n",
            "Prediction: safe\n",
            "Label: phishing\n",
            "\n"
          ]
        },
        {
          "output_type": "stream",
          "name": "stderr",
          "text": [
            "/usr/local/lib/python3.10/dist-packages/sklearn/base.py:439: UserWarning: X does not have valid feature names, but RandomForestClassifier was fitted with feature names\n",
            "  warnings.warn(\n"
          ]
        },
        {
          "output_type": "stream",
          "name": "stdout",
          "text": [
            "Website: http://ca43120.tw1.ru/nvmeca/pages/region.php\n",
            "Prediction: safe\n",
            "Label: phishing\n",
            "\n"
          ]
        },
        {
          "output_type": "stream",
          "name": "stderr",
          "text": [
            "/usr/local/lib/python3.10/dist-packages/sklearn/base.py:439: UserWarning: X does not have valid feature names, but RandomForestClassifier was fitted with feature names\n",
            "  warnings.warn(\n"
          ]
        },
        {
          "output_type": "stream",
          "name": "stdout",
          "text": [
            "Website: http://yourgracechurch.ccbchurch.com\n",
            "Prediction: safe\n",
            "Label: phishing\n",
            "\n"
          ]
        },
        {
          "output_type": "stream",
          "name": "stderr",
          "text": [
            "/usr/local/lib/python3.10/dist-packages/sklearn/base.py:439: UserWarning: X does not have valid feature names, but RandomForestClassifier was fitted with feature names\n",
            "  warnings.warn(\n",
            "/usr/local/lib/python3.10/dist-packages/sklearn/base.py:439: UserWarning: X does not have valid feature names, but RandomForestClassifier was fitted with feature names\n",
            "  warnings.warn(\n"
          ]
        },
        {
          "output_type": "stream",
          "name": "stdout",
          "text": [
            "Website: https://www.armor-iimak.com.br\n",
            "Prediction: safe\n",
            "Label: phishing\n",
            "\n",
            "Website: https://actvebnpapp.web.app/\n",
            "Prediction: safe\n",
            "Label: phishing\n",
            "\n"
          ]
        },
        {
          "output_type": "stream",
          "name": "stderr",
          "text": [
            "/usr/local/lib/python3.10/dist-packages/sklearn/base.py:439: UserWarning: X does not have valid feature names, but RandomForestClassifier was fitted with feature names\n",
            "  warnings.warn(\n"
          ]
        },
        {
          "output_type": "stream",
          "name": "stdout",
          "text": [
            "Website: https://oct82.com/\n",
            "Prediction: safe\n",
            "Label: phishing\n",
            "\n"
          ]
        },
        {
          "output_type": "stream",
          "name": "stderr",
          "text": [
            "/usr/local/lib/python3.10/dist-packages/sklearn/base.py:439: UserWarning: X does not have valid feature names, but RandomForestClassifier was fitted with feature names\n",
            "  warnings.warn(\n",
            "/usr/local/lib/python3.10/dist-packages/sklearn/base.py:439: UserWarning: X does not have valid feature names, but RandomForestClassifier was fitted with feature names\n",
            "  warnings.warn(\n"
          ]
        },
        {
          "output_type": "stream",
          "name": "stdout",
          "text": [
            "Website: http://yourhotperfume.com\n",
            "Prediction: safe\n",
            "Label: phishing\n",
            "\n",
            "Website: https://blocksync.web.app/\n",
            "Prediction: safe\n",
            "Label: phishing\n",
            "\n"
          ]
        },
        {
          "output_type": "stream",
          "name": "stderr",
          "text": [
            "/usr/local/lib/python3.10/dist-packages/sklearn/base.py:439: UserWarning: X does not have valid feature names, but RandomForestClassifier was fitted with feature names\n",
            "  warnings.warn(\n",
            "/usr/local/lib/python3.10/dist-packages/sklearn/base.py:439: UserWarning: X does not have valid feature names, but RandomForestClassifier was fitted with feature names\n",
            "  warnings.warn(\n"
          ]
        },
        {
          "output_type": "stream",
          "name": "stdout",
          "text": [
            "Website: https://obmen.click/\n",
            "Prediction: safe\n",
            "Label: phishing\n",
            "\n",
            "Website: https://transact-nzta.web.app/\n",
            "Prediction: safe\n",
            "Label: phishing\n",
            "\n"
          ]
        },
        {
          "output_type": "stream",
          "name": "stderr",
          "text": [
            "/usr/local/lib/python3.10/dist-packages/sklearn/base.py:439: UserWarning: X does not have valid feature names, but RandomForestClassifier was fitted with feature names\n",
            "  warnings.warn(\n"
          ]
        },
        {
          "output_type": "stream",
          "name": "stdout",
          "text": [
            "Website: https://outh-bitpanda.web.app/\n",
            "Prediction: safe\n",
            "Label: phishing\n",
            "\n"
          ]
        },
        {
          "output_type": "stream",
          "name": "stderr",
          "text": [
            "/usr/local/lib/python3.10/dist-packages/sklearn/base.py:439: UserWarning: X does not have valid feature names, but RandomForestClassifier was fitted with feature names\n",
            "  warnings.warn(\n"
          ]
        },
        {
          "output_type": "stream",
          "name": "stdout",
          "text": [
            "Website: http://brescianacarrelli.it/commande/commande/\n",
            "Prediction: safe\n",
            "Label: phishing\n",
            "\n"
          ]
        },
        {
          "output_type": "stream",
          "name": "stderr",
          "text": [
            "/usr/local/lib/python3.10/dist-packages/sklearn/base.py:439: UserWarning: X does not have valid feature names, but RandomForestClassifier was fitted with feature names\n",
            "  warnings.warn(\n",
            "/usr/local/lib/python3.10/dist-packages/sklearn/base.py:439: UserWarning: X does not have valid feature names, but RandomForestClassifier was fitted with feature names\n",
            "  warnings.warn(\n",
            "/usr/local/lib/python3.10/dist-packages/sklearn/base.py:439: UserWarning: X does not have valid feature names, but RandomForestClassifier was fitted with feature names\n",
            "  warnings.warn(\n"
          ]
        },
        {
          "output_type": "stream",
          "name": "stdout",
          "text": [
            "Website: http://cloudflare-ipfs.com/ipfs/bafybeidm57x2nzjkamcvlcydl3czskwahbenkjqygaxmxfwuyqld7rekp4\n",
            "Prediction: safe\n",
            "Label: phishing\n",
            "\n",
            "Website: http://centro-activation-metaa.liveblog365.com/\n",
            "Prediction: safe\n",
            "Label: phishing\n",
            "\n",
            "Website: https://jablies.web.app/\n",
            "Prediction: safe\n",
            "Label: phishing\n",
            "\n"
          ]
        },
        {
          "output_type": "stream",
          "name": "stderr",
          "text": [
            "/usr/local/lib/python3.10/dist-packages/sklearn/base.py:439: UserWarning: X does not have valid feature names, but RandomForestClassifier was fitted with feature names\n",
            "  warnings.warn(\n",
            "/usr/local/lib/python3.10/dist-packages/sklearn/base.py:439: UserWarning: X does not have valid feature names, but RandomForestClassifier was fitted with feature names\n",
            "  warnings.warn(\n",
            "/usr/local/lib/python3.10/dist-packages/sklearn/base.py:439: UserWarning: X does not have valid feature names, but RandomForestClassifier was fitted with feature names\n",
            "  warnings.warn(\n"
          ]
        },
        {
          "output_type": "stream",
          "name": "stdout",
          "text": [
            "Website: https://jablies.firebaseapp.com/\n",
            "Prediction: safe\n",
            "Label: phishing\n",
            "\n",
            "Website: https://johnlewis-review.web.app/\n",
            "Prediction: safe\n",
            "Label: phishing\n",
            "\n",
            "Website: https://johnlewis-review.firebaseapp.com/\n",
            "Prediction: safe\n",
            "Label: phishing\n",
            "\n"
          ]
        },
        {
          "output_type": "stream",
          "name": "stderr",
          "text": [
            "/usr/local/lib/python3.10/dist-packages/sklearn/base.py:439: UserWarning: X does not have valid feature names, but RandomForestClassifier was fitted with feature names\n",
            "  warnings.warn(\n",
            "/usr/local/lib/python3.10/dist-packages/sklearn/base.py:439: UserWarning: X does not have valid feature names, but RandomForestClassifier was fitted with feature names\n",
            "  warnings.warn(\n"
          ]
        },
        {
          "output_type": "stream",
          "name": "stdout",
          "text": [
            "Website: https://quiveux-double.web.app/\n",
            "Prediction: safe\n",
            "Label: phishing\n",
            "\n",
            "Website: https://quiveux-double.firebaseapp.com/\n",
            "Prediction: safe\n",
            "Label: phishing\n",
            "\n"
          ]
        },
        {
          "output_type": "stream",
          "name": "stderr",
          "text": [
            "/usr/local/lib/python3.10/dist-packages/sklearn/base.py:439: UserWarning: X does not have valid feature names, but RandomForestClassifier was fitted with feature names\n",
            "  warnings.warn(\n",
            "/usr/local/lib/python3.10/dist-packages/sklearn/base.py:439: UserWarning: X does not have valid feature names, but RandomForestClassifier was fitted with feature names\n",
            "  warnings.warn(\n"
          ]
        },
        {
          "output_type": "stream",
          "name": "stdout",
          "text": [
            "Website: https://qmc.pages.dev/\n",
            "Prediction: safe\n",
            "Label: phishing\n",
            "\n",
            "Website: https://google.com\n",
            "Prediction: safe\n",
            "Label: safe\n",
            "\n"
          ]
        },
        {
          "output_type": "stream",
          "name": "stderr",
          "text": [
            "/usr/local/lib/python3.10/dist-packages/sklearn/base.py:439: UserWarning: X does not have valid feature names, but RandomForestClassifier was fitted with feature names\n",
            "  warnings.warn(\n"
          ]
        },
        {
          "output_type": "stream",
          "name": "stdout",
          "text": [
            "Website: http://facebook.com\n",
            "Prediction: safe\n",
            "Label: safe\n",
            "\n"
          ]
        },
        {
          "output_type": "stream",
          "name": "stderr",
          "text": [
            "/usr/local/lib/python3.10/dist-packages/sklearn/base.py:439: UserWarning: X does not have valid feature names, but RandomForestClassifier was fitted with feature names\n",
            "  warnings.warn(\n"
          ]
        },
        {
          "output_type": "stream",
          "name": "stdout",
          "text": [
            "Website: http://reddit.com\n",
            "Prediction: safe\n",
            "Label: safe\n",
            "\n"
          ]
        },
        {
          "output_type": "stream",
          "name": "stderr",
          "text": [
            "/usr/local/lib/python3.10/dist-packages/sklearn/base.py:439: UserWarning: X does not have valid feature names, but RandomForestClassifier was fitted with feature names\n",
            "  warnings.warn(\n"
          ]
        },
        {
          "output_type": "stream",
          "name": "stdout",
          "text": [
            "Website: https://www.mmu.edu.my/\n",
            "Prediction: safe\n",
            "Label: safe\n",
            "\n"
          ]
        },
        {
          "output_type": "stream",
          "name": "stderr",
          "text": [
            "/usr/local/lib/python3.10/dist-packages/sklearn/base.py:439: UserWarning: X does not have valid feature names, but RandomForestClassifier was fitted with feature names\n",
            "  warnings.warn(\n"
          ]
        },
        {
          "output_type": "stream",
          "name": "stdout",
          "text": [
            "Website: https://www.digitalocean.com/\n",
            "Prediction: safe\n",
            "Label: safe\n",
            "\n"
          ]
        },
        {
          "output_type": "stream",
          "name": "stderr",
          "text": [
            "/usr/local/lib/python3.10/dist-packages/sklearn/base.py:439: UserWarning: X does not have valid feature names, but RandomForestClassifier was fitted with feature names\n",
            "  warnings.warn(\n"
          ]
        },
        {
          "output_type": "stream",
          "name": "stdout",
          "text": [
            "Website: https://realpython.com/\n",
            "Prediction: safe\n",
            "Label: safe\n",
            "\n"
          ]
        },
        {
          "output_type": "stream",
          "name": "stderr",
          "text": [
            "/usr/local/lib/python3.10/dist-packages/sklearn/base.py:439: UserWarning: X does not have valid feature names, but RandomForestClassifier was fitted with feature names\n",
            "  warnings.warn(\n"
          ]
        },
        {
          "output_type": "stream",
          "name": "stdout",
          "text": [
            "Website: https://www.kdnuggets.com/\n",
            "Prediction: safe\n",
            "Label: safe\n",
            "\n"
          ]
        },
        {
          "output_type": "stream",
          "name": "stderr",
          "text": [
            "/usr/local/lib/python3.10/dist-packages/sklearn/base.py:439: UserWarning: X does not have valid feature names, but RandomForestClassifier was fitted with feature names\n",
            "  warnings.warn(\n",
            "/usr/local/lib/python3.10/dist-packages/sklearn/base.py:439: UserWarning: X does not have valid feature names, but RandomForestClassifier was fitted with feature names\n",
            "  warnings.warn(\n"
          ]
        },
        {
          "output_type": "stream",
          "name": "stdout",
          "text": [
            "Website: http://malaysianfootprint.blogspot.com/\n",
            "Prediction: safe\n",
            "Label: safe\n",
            "\n",
            "Website: https://github.com/\n",
            "Prediction: safe\n",
            "Label: safe\n",
            "\n"
          ]
        },
        {
          "output_type": "stream",
          "name": "stderr",
          "text": [
            "/usr/local/lib/python3.10/dist-packages/sklearn/base.py:439: UserWarning: X does not have valid feature names, but RandomForestClassifier was fitted with feature names\n",
            "  warnings.warn(\n"
          ]
        },
        {
          "output_type": "stream",
          "name": "stdout",
          "text": [
            "Website: https://www.bing.com/?toWww=1&redig=813766FB1BD4460292C03CE53D9D33E4\n",
            "Prediction: safe\n",
            "Label: safe\n",
            "\n"
          ]
        },
        {
          "output_type": "stream",
          "name": "stderr",
          "text": [
            "/usr/local/lib/python3.10/dist-packages/sklearn/base.py:439: UserWarning: X does not have valid feature names, but RandomForestClassifier was fitted with feature names\n",
            "  warnings.warn(\n"
          ]
        },
        {
          "output_type": "stream",
          "name": "stdout",
          "text": [
            "Website: https://camsys.mmu.edu.my/\n",
            "Prediction: safe\n",
            "Label: safe\n",
            "\n"
          ]
        },
        {
          "output_type": "stream",
          "name": "stderr",
          "text": [
            "/usr/local/lib/python3.10/dist-packages/sklearn/base.py:439: UserWarning: X does not have valid feature names, but RandomForestClassifier was fitted with feature names\n",
            "  warnings.warn(\n"
          ]
        },
        {
          "output_type": "stream",
          "name": "stdout",
          "text": [
            "Website: https://camsyscrm.mmu.edu.my/\n",
            "Prediction: safe\n",
            "Label: safe\n",
            "\n"
          ]
        },
        {
          "output_type": "stream",
          "name": "stderr",
          "text": [
            "/usr/local/lib/python3.10/dist-packages/sklearn/base.py:439: UserWarning: X does not have valid feature names, but RandomForestClassifier was fitted with feature names\n",
            "  warnings.warn(\n"
          ]
        },
        {
          "output_type": "stream",
          "name": "stdout",
          "text": [
            "Website: https://tryhackme.com\n",
            "Prediction: safe\n",
            "Label: safe\n",
            "\n"
          ]
        },
        {
          "output_type": "stream",
          "name": "stderr",
          "text": [
            "/usr/local/lib/python3.10/dist-packages/sklearn/base.py:439: UserWarning: X does not have valid feature names, but RandomForestClassifier was fitted with feature names\n",
            "  warnings.warn(\n"
          ]
        },
        {
          "output_type": "stream",
          "name": "stdout",
          "text": [
            "Website: https://malaysia.yahoo.com/?p=us&guccounter=1\n",
            "Prediction: safe\n",
            "Label: safe\n",
            "\n"
          ]
        },
        {
          "output_type": "stream",
          "name": "stderr",
          "text": [
            "/usr/local/lib/python3.10/dist-packages/sklearn/base.py:439: UserWarning: X does not have valid feature names, but RandomForestClassifier was fitted with feature names\n",
            "  warnings.warn(\n",
            "/usr/local/lib/python3.10/dist-packages/sklearn/base.py:439: UserWarning: X does not have valid feature names, but RandomForestClassifier was fitted with feature names\n",
            "  warnings.warn(\n"
          ]
        },
        {
          "output_type": "stream",
          "name": "stdout",
          "text": [
            "Website: https://www.youtube.com\n",
            "Prediction: safe\n",
            "Label: safe\n",
            "\n",
            "Website: https://www.wikipedia.org\n",
            "Prediction: safe\n",
            "Label: safe\n",
            "\n"
          ]
        },
        {
          "output_type": "stream",
          "name": "stderr",
          "text": [
            "/usr/local/lib/python3.10/dist-packages/sklearn/base.py:439: UserWarning: X does not have valid feature names, but RandomForestClassifier was fitted with feature names\n",
            "  warnings.warn(\n"
          ]
        },
        {
          "output_type": "stream",
          "name": "stdout",
          "text": [
            "Website: https://www.ted.com\n",
            "Prediction: safe\n",
            "Label: safe\n",
            "\n"
          ]
        },
        {
          "output_type": "stream",
          "name": "stderr",
          "text": [
            "/usr/local/lib/python3.10/dist-packages/sklearn/base.py:439: UserWarning: X does not have valid feature names, but RandomForestClassifier was fitted with feature names\n",
            "  warnings.warn(\n"
          ]
        },
        {
          "output_type": "stream",
          "name": "stdout",
          "text": [
            "Website: https://stackoverflow.com\n",
            "Prediction: safe\n",
            "Label: safe\n",
            "\n"
          ]
        },
        {
          "output_type": "stream",
          "name": "stderr",
          "text": [
            "/usr/local/lib/python3.10/dist-packages/sklearn/base.py:439: UserWarning: X does not have valid feature names, but RandomForestClassifier was fitted with feature names\n",
            "  warnings.warn(\n"
          ]
        },
        {
          "output_type": "stream",
          "name": "stdout",
          "text": [
            "Website: https://soyacincau.com\n",
            "Prediction: safe\n",
            "Label: safe\n",
            "\n"
          ]
        },
        {
          "output_type": "stream",
          "name": "stderr",
          "text": [
            "/usr/local/lib/python3.10/dist-packages/sklearn/base.py:439: UserWarning: X does not have valid feature names, but RandomForestClassifier was fitted with feature names\n",
            "  warnings.warn(\n"
          ]
        },
        {
          "output_type": "stream",
          "name": "stdout",
          "text": [
            "Website: https://cilisos.my\n",
            "Prediction: safe\n",
            "Label: safe\n",
            "\n"
          ]
        },
        {
          "output_type": "stream",
          "name": "stderr",
          "text": [
            "/usr/local/lib/python3.10/dist-packages/sklearn/base.py:439: UserWarning: X does not have valid feature names, but RandomForestClassifier was fitted with feature names\n",
            "  warnings.warn(\n"
          ]
        },
        {
          "output_type": "stream",
          "name": "stdout",
          "text": [
            "Website: https://siakapkeli.my\n",
            "Prediction: safe\n",
            "Label: safe\n",
            "\n"
          ]
        },
        {
          "output_type": "stream",
          "name": "stderr",
          "text": [
            "/usr/local/lib/python3.10/dist-packages/sklearn/base.py:439: UserWarning: X does not have valid feature names, but RandomForestClassifier was fitted with feature names\n",
            "  warnings.warn(\n"
          ]
        },
        {
          "output_type": "stream",
          "name": "stdout",
          "text": [
            "Website: https://www.baidu.com\n",
            "Prediction: safe\n",
            "Label: safe\n",
            "\n"
          ]
        },
        {
          "output_type": "stream",
          "name": "stderr",
          "text": [
            "/usr/local/lib/python3.10/dist-packages/sklearn/base.py:439: UserWarning: X does not have valid feature names, but RandomForestClassifier was fitted with feature names\n",
            "  warnings.warn(\n"
          ]
        },
        {
          "output_type": "stream",
          "name": "stdout",
          "text": [
            "Website: https://www.carousell.com.my\n",
            "Prediction: safe\n",
            "Label: safe\n",
            "\n"
          ]
        },
        {
          "output_type": "stream",
          "name": "stderr",
          "text": [
            "/usr/local/lib/python3.10/dist-packages/sklearn/base.py:439: UserWarning: X does not have valid feature names, but RandomForestClassifier was fitted with feature names\n",
            "  warnings.warn(\n"
          ]
        },
        {
          "output_type": "stream",
          "name": "stdout",
          "text": [
            "Website: https://www.cimbclicks.com.my\n",
            "Prediction: safe\n",
            "Label: safe\n",
            "\n"
          ]
        },
        {
          "output_type": "stream",
          "name": "stderr",
          "text": [
            "/usr/local/lib/python3.10/dist-packages/sklearn/base.py:439: UserWarning: X does not have valid feature names, but RandomForestClassifier was fitted with feature names\n",
            "  warnings.warn(\n"
          ]
        },
        {
          "output_type": "stream",
          "name": "stdout",
          "text": [
            "Website: https://internet.ocbc.com.my/internet-banking/LoginV2/Login?rc=INB\n",
            "Prediction: safe\n",
            "Label: safe\n",
            "\n"
          ]
        },
        {
          "output_type": "stream",
          "name": "stderr",
          "text": [
            "/usr/local/lib/python3.10/dist-packages/sklearn/base.py:439: UserWarning: X does not have valid feature names, but RandomForestClassifier was fitted with feature names\n",
            "  warnings.warn(\n"
          ]
        },
        {
          "output_type": "stream",
          "name": "stdout",
          "text": [
            "Website: https://tinyurl.com/yra5kx55\n",
            "Prediction: safe\n",
            "Label: safe\n",
            "\n"
          ]
        },
        {
          "output_type": "stream",
          "name": "stderr",
          "text": [
            "/usr/local/lib/python3.10/dist-packages/sklearn/base.py:439: UserWarning: X does not have valid feature names, but RandomForestClassifier was fitted with feature names\n",
            "  warnings.warn(\n"
          ]
        },
        {
          "output_type": "stream",
          "name": "stdout",
          "text": [
            "Website: http://ianchai.lomaikai.com\n",
            "Prediction: safe\n",
            "Label: safe\n",
            "\n"
          ]
        },
        {
          "output_type": "stream",
          "name": "stderr",
          "text": [
            "/usr/local/lib/python3.10/dist-packages/sklearn/base.py:439: UserWarning: X does not have valid feature names, but RandomForestClassifier was fitted with feature names\n",
            "  warnings.warn(\n"
          ]
        },
        {
          "output_type": "stream",
          "name": "stdout",
          "text": [
            "Website: https://mmuexpert.mmu.edu.my/ianchai\n",
            "Prediction: safe\n",
            "Label: safe\n",
            "\n"
          ]
        },
        {
          "output_type": "stream",
          "name": "stderr",
          "text": [
            "/usr/local/lib/python3.10/dist-packages/sklearn/base.py:439: UserWarning: X does not have valid feature names, but RandomForestClassifier was fitted with feature names\n",
            "  warnings.warn(\n"
          ]
        },
        {
          "output_type": "stream",
          "name": "stdout",
          "text": [
            "Website: http://ianchaiwriting.50megs.com\n",
            "Prediction: safe\n",
            "Label: safe\n",
            "\n"
          ]
        },
        {
          "output_type": "stream",
          "name": "stderr",
          "text": [
            "/usr/local/lib/python3.10/dist-packages/sklearn/base.py:439: UserWarning: X does not have valid feature names, but RandomForestClassifier was fitted with feature names\n",
            "  warnings.warn(\n",
            "/usr/local/lib/python3.10/dist-packages/sklearn/base.py:439: UserWarning: X does not have valid feature names, but RandomForestClassifier was fitted with feature names\n",
            "  warnings.warn(\n"
          ]
        },
        {
          "output_type": "stream",
          "name": "stdout",
          "text": [
            "Website: http://ianchai.lomaikai.com/How_to_use_gdb_to_test_your_program.html\n",
            "Prediction: safe\n",
            "Label: safe\n",
            "\n",
            "Website: http://ianjuliane.blogspot.com\n",
            "Prediction: safe\n",
            "Label: safe\n",
            "\n"
          ]
        },
        {
          "output_type": "stream",
          "name": "stderr",
          "text": [
            "/usr/local/lib/python3.10/dist-packages/sklearn/base.py:439: UserWarning: X does not have valid feature names, but RandomForestClassifier was fitted with feature names\n",
            "  warnings.warn(\n"
          ]
        },
        {
          "output_type": "stream",
          "name": "stdout",
          "text": [
            "Website: https://www.netflix.com\n",
            "Prediction: safe\n",
            "Label: safe\n",
            "\n",
            "Website https://www.amazon.com is unreachable\n"
          ]
        },
        {
          "output_type": "stream",
          "name": "stderr",
          "text": [
            "/usr/local/lib/python3.10/dist-packages/sklearn/base.py:439: UserWarning: X does not have valid feature names, but RandomForestClassifier was fitted with feature names\n",
            "  warnings.warn(\n"
          ]
        },
        {
          "output_type": "stream",
          "name": "stdout",
          "text": [
            "Website: https://www.apple.com\n",
            "Prediction: safe\n",
            "Label: safe\n",
            "\n"
          ]
        },
        {
          "output_type": "stream",
          "name": "stderr",
          "text": [
            "/usr/local/lib/python3.10/dist-packages/sklearn/base.py:439: UserWarning: X does not have valid feature names, but RandomForestClassifier was fitted with feature names\n",
            "  warnings.warn(\n"
          ]
        },
        {
          "output_type": "stream",
          "name": "stdout",
          "text": [
            "Website: https://www.spotify.com\n",
            "Prediction: safe\n",
            "Label: safe\n",
            "\n",
            "Website https://www.instagram.com is unreachable\n"
          ]
        },
        {
          "output_type": "stream",
          "name": "stderr",
          "text": [
            "/usr/local/lib/python3.10/dist-packages/sklearn/base.py:439: UserWarning: X does not have valid feature names, but RandomForestClassifier was fitted with feature names\n",
            "  warnings.warn(\n"
          ]
        },
        {
          "output_type": "stream",
          "name": "stdout",
          "text": [
            "Website: https://www.twitter.com\n",
            "Prediction: safe\n",
            "Label: safe\n",
            "\n",
            "Website https://www.linkedin.com is unreachable\n"
          ]
        },
        {
          "output_type": "stream",
          "name": "stderr",
          "text": [
            "/usr/local/lib/python3.10/dist-packages/sklearn/base.py:439: UserWarning: X does not have valid feature names, but RandomForestClassifier was fitted with feature names\n",
            "  warnings.warn(\n",
            "/usr/local/lib/python3.10/dist-packages/sklearn/base.py:439: UserWarning: X does not have valid feature names, but RandomForestClassifier was fitted with feature names\n",
            "  warnings.warn(\n"
          ]
        },
        {
          "output_type": "stream",
          "name": "stdout",
          "text": [
            "Website: https://www.pinterest.com\n",
            "Prediction: safe\n",
            "Label: safe\n",
            "\n",
            "Website: https://www.tumblr.com\n",
            "Prediction: safe\n",
            "Label: safe\n",
            "\n"
          ]
        },
        {
          "output_type": "stream",
          "name": "stderr",
          "text": [
            "/usr/local/lib/python3.10/dist-packages/sklearn/base.py:439: UserWarning: X does not have valid feature names, but RandomForestClassifier was fitted with feature names\n",
            "  warnings.warn(\n"
          ]
        },
        {
          "output_type": "stream",
          "name": "stdout",
          "text": [
            "Website: https://www.wordpress.com\n",
            "Prediction: safe\n",
            "Label: safe\n",
            "\n"
          ]
        },
        {
          "output_type": "stream",
          "name": "stderr",
          "text": [
            "/usr/local/lib/python3.10/dist-packages/sklearn/base.py:439: UserWarning: X does not have valid feature names, but RandomForestClassifier was fitted with feature names\n",
            "  warnings.warn(\n"
          ]
        },
        {
          "output_type": "stream",
          "name": "stdout",
          "text": [
            "Website: https://www.blogger.com\n",
            "Prediction: safe\n",
            "Label: safe\n",
            "\n"
          ]
        },
        {
          "output_type": "stream",
          "name": "stderr",
          "text": [
            "/usr/local/lib/python3.10/dist-packages/sklearn/base.py:439: UserWarning: X does not have valid feature names, but RandomForestClassifier was fitted with feature names\n",
            "  warnings.warn(\n"
          ]
        },
        {
          "output_type": "stream",
          "name": "stdout",
          "text": [
            "Website: https://www.wix.com\n",
            "Prediction: safe\n",
            "Label: safe\n",
            "\n"
          ]
        },
        {
          "output_type": "stream",
          "name": "stderr",
          "text": [
            "/usr/local/lib/python3.10/dist-packages/sklearn/base.py:439: UserWarning: X does not have valid feature names, but RandomForestClassifier was fitted with feature names\n",
            "  warnings.warn(\n"
          ]
        },
        {
          "output_type": "stream",
          "name": "stdout",
          "text": [
            "Website: https://www.dropbox.com\n",
            "Prediction: safe\n",
            "Label: safe\n",
            "\n"
          ]
        },
        {
          "output_type": "stream",
          "name": "stderr",
          "text": [
            "/usr/local/lib/python3.10/dist-packages/sklearn/base.py:439: UserWarning: X does not have valid feature names, but RandomForestClassifier was fitted with feature names\n",
            "  warnings.warn(\n"
          ]
        },
        {
          "output_type": "stream",
          "name": "stdout",
          "text": [
            "Website: https://www.box.com\n",
            "Prediction: safe\n",
            "Label: safe\n",
            "\n"
          ]
        },
        {
          "output_type": "stream",
          "name": "stderr",
          "text": [
            "/usr/local/lib/python3.10/dist-packages/sklearn/base.py:439: UserWarning: X does not have valid feature names, but RandomForestClassifier was fitted with feature names\n",
            "  warnings.warn(\n"
          ]
        },
        {
          "output_type": "stream",
          "name": "stdout",
          "text": [
            "Website: https://www.slack.com\n",
            "Prediction: safe\n",
            "Label: safe\n",
            "\n"
          ]
        },
        {
          "output_type": "stream",
          "name": "stderr",
          "text": [
            "/usr/local/lib/python3.10/dist-packages/sklearn/base.py:439: UserWarning: X does not have valid feature names, but RandomForestClassifier was fitted with feature names\n",
            "  warnings.warn(\n"
          ]
        },
        {
          "output_type": "stream",
          "name": "stdout",
          "text": [
            "Website: https://www.zoom.us\n",
            "Prediction: safe\n",
            "Label: safe\n",
            "\n"
          ]
        },
        {
          "output_type": "stream",
          "name": "stderr",
          "text": [
            "/usr/local/lib/python3.10/dist-packages/sklearn/base.py:439: UserWarning: X does not have valid feature names, but RandomForestClassifier was fitted with feature names\n",
            "  warnings.warn(\n"
          ]
        },
        {
          "output_type": "stream",
          "name": "stdout",
          "text": [
            "Website: https://www.udemy.com\n",
            "Prediction: safe\n",
            "Label: safe\n",
            "\n"
          ]
        },
        {
          "output_type": "stream",
          "name": "stderr",
          "text": [
            "/usr/local/lib/python3.10/dist-packages/sklearn/base.py:439: UserWarning: X does not have valid feature names, but RandomForestClassifier was fitted with feature names\n",
            "  warnings.warn(\n"
          ]
        },
        {
          "output_type": "stream",
          "name": "stdout",
          "text": [
            "Website: https://www.coursera.org\n",
            "Prediction: safe\n",
            "Label: safe\n",
            "\n"
          ]
        },
        {
          "output_type": "stream",
          "name": "stderr",
          "text": [
            "/usr/local/lib/python3.10/dist-packages/sklearn/base.py:439: UserWarning: X does not have valid feature names, but RandomForestClassifier was fitted with feature names\n",
            "  warnings.warn(\n",
            "/usr/local/lib/python3.10/dist-packages/sklearn/base.py:439: UserWarning: X does not have valid feature names, but RandomForestClassifier was fitted with feature names\n",
            "  warnings.warn(\n"
          ]
        },
        {
          "output_type": "stream",
          "name": "stdout",
          "text": [
            "Website: https://www.edx.org\n",
            "Prediction: safe\n",
            "Label: safe\n",
            "\n",
            "Website: https://www.khanacademy.org\n",
            "Prediction: safe\n",
            "Label: safe\n",
            "\n"
          ]
        },
        {
          "output_type": "stream",
          "name": "stderr",
          "text": [
            "/usr/local/lib/python3.10/dist-packages/sklearn/base.py:439: UserWarning: X does not have valid feature names, but RandomForestClassifier was fitted with feature names\n",
            "  warnings.warn(\n"
          ]
        },
        {
          "output_type": "stream",
          "name": "stdout",
          "text": [
            "Website: https://www.stackoverflow.com\n",
            "Prediction: safe\n",
            "Label: safe\n",
            "\n"
          ]
        },
        {
          "output_type": "stream",
          "name": "stderr",
          "text": [
            "/usr/local/lib/python3.10/dist-packages/sklearn/base.py:439: UserWarning: X does not have valid feature names, but RandomForestClassifier was fitted with feature names\n",
            "  warnings.warn(\n"
          ]
        },
        {
          "output_type": "stream",
          "name": "stdout",
          "text": [
            "Website: https://www.github.com\n",
            "Prediction: safe\n",
            "Label: safe\n",
            "\n"
          ]
        },
        {
          "output_type": "stream",
          "name": "stderr",
          "text": [
            "/usr/local/lib/python3.10/dist-packages/sklearn/base.py:439: UserWarning: X does not have valid feature names, but RandomForestClassifier was fitted with feature names\n",
            "  warnings.warn(\n"
          ]
        },
        {
          "output_type": "stream",
          "name": "stdout",
          "text": [
            "Website: https://www.gitlab.com\n",
            "Prediction: safe\n",
            "Label: safe\n",
            "\n"
          ]
        },
        {
          "output_type": "stream",
          "name": "stderr",
          "text": [
            "/usr/local/lib/python3.10/dist-packages/sklearn/base.py:439: UserWarning: X does not have valid feature names, but RandomForestClassifier was fitted with feature names\n",
            "  warnings.warn(\n",
            "/usr/local/lib/python3.10/dist-packages/sklearn/base.py:439: UserWarning: X does not have valid feature names, but RandomForestClassifier was fitted with feature names\n",
            "  warnings.warn(\n"
          ]
        },
        {
          "output_type": "stream",
          "name": "stdout",
          "text": [
            "Website: https://www.bitbucket.org\n",
            "Prediction: safe\n",
            "Label: safe\n",
            "\n",
            "Website: https://www.twitch.tv\n",
            "Prediction: safe\n",
            "Label: safe\n",
            "\n"
          ]
        },
        {
          "output_type": "stream",
          "name": "stderr",
          "text": [
            "/usr/local/lib/python3.10/dist-packages/sklearn/base.py:439: UserWarning: X does not have valid feature names, but RandomForestClassifier was fitted with feature names\n",
            "  warnings.warn(\n",
            "/usr/local/lib/python3.10/dist-packages/sklearn/base.py:439: UserWarning: X does not have valid feature names, but RandomForestClassifier was fitted with feature names\n",
            "  warnings.warn(\n"
          ]
        },
        {
          "output_type": "stream",
          "name": "stdout",
          "text": [
            "Website: https://www.dribbble.com\n",
            "Prediction: safe\n",
            "Label: safe\n",
            "\n",
            "Website: https://www.behance.net\n",
            "Prediction: safe\n",
            "Label: safe\n",
            "\n",
            "Website https://www.pixabay.com is unreachable\n"
          ]
        },
        {
          "output_type": "stream",
          "name": "stderr",
          "text": [
            "/usr/local/lib/python3.10/dist-packages/sklearn/base.py:439: UserWarning: X does not have valid feature names, but RandomForestClassifier was fitted with feature names\n",
            "  warnings.warn(\n"
          ]
        },
        {
          "output_type": "stream",
          "name": "stdout",
          "text": [
            "Website: https://www.unsplash.com\n",
            "Prediction: safe\n",
            "Label: safe\n",
            "\n",
            "Website https://www.canva.com is unreachable\n"
          ]
        },
        {
          "output_type": "stream",
          "name": "stderr",
          "text": [
            "/usr/local/lib/python3.10/dist-packages/sklearn/base.py:439: UserWarning: X does not have valid feature names, but RandomForestClassifier was fitted with feature names\n",
            "  warnings.warn(\n"
          ]
        },
        {
          "output_type": "stream",
          "name": "stdout",
          "text": [
            "Website: https://www.flickr.com\n",
            "Prediction: safe\n",
            "Label: safe\n",
            "\n"
          ]
        },
        {
          "output_type": "stream",
          "name": "stderr",
          "text": [
            "/usr/local/lib/python3.10/dist-packages/sklearn/base.py:439: UserWarning: X does not have valid feature names, but RandomForestClassifier was fitted with feature names\n",
            "  warnings.warn(\n"
          ]
        },
        {
          "output_type": "stream",
          "name": "stdout",
          "text": [
            "Website: https://www.booking.com\n",
            "Prediction: safe\n",
            "Label: safe\n",
            "\n"
          ]
        },
        {
          "output_type": "stream",
          "name": "stderr",
          "text": [
            "/usr/local/lib/python3.10/dist-packages/sklearn/base.py:439: UserWarning: X does not have valid feature names, but RandomForestClassifier was fitted with feature names\n",
            "  warnings.warn(\n"
          ]
        },
        {
          "output_type": "stream",
          "name": "stdout",
          "text": [
            "Website: https://www.expedia.com\n",
            "Prediction: safe\n",
            "Label: safe\n",
            "\n",
            "Website https://www.zillow.com is unreachable\n",
            "Website https://www.realtor.com is unreachable\n"
          ]
        },
        {
          "output_type": "stream",
          "name": "stderr",
          "text": [
            "/usr/local/lib/python3.10/dist-packages/sklearn/base.py:439: UserWarning: X does not have valid feature names, but RandomForestClassifier was fitted with feature names\n",
            "  warnings.warn(\n"
          ]
        },
        {
          "output_type": "stream",
          "name": "stdout",
          "text": [
            "Website: https://www.hulu.com\n",
            "Prediction: safe\n",
            "Label: safe\n",
            "\n"
          ]
        },
        {
          "output_type": "stream",
          "name": "stderr",
          "text": [
            "/usr/local/lib/python3.10/dist-packages/sklearn/base.py:439: UserWarning: X does not have valid feature names, but RandomForestClassifier was fitted with feature names\n",
            "  warnings.warn(\n"
          ]
        },
        {
          "output_type": "stream",
          "name": "stdout",
          "text": [
            "Website: https://www.bbc.co.uk\n",
            "Prediction: safe\n",
            "Label: safe\n",
            "\n"
          ]
        },
        {
          "output_type": "stream",
          "name": "stderr",
          "text": [
            "/usr/local/lib/python3.10/dist-packages/sklearn/base.py:439: UserWarning: X does not have valid feature names, but RandomForestClassifier was fitted with feature names\n",
            "  warnings.warn(\n"
          ]
        },
        {
          "output_type": "stream",
          "name": "stdout",
          "text": [
            "Website: https://www.cnn.com\n",
            "Prediction: safe\n",
            "Label: safe\n",
            "\n"
          ]
        },
        {
          "output_type": "stream",
          "name": "stderr",
          "text": [
            "/usr/local/lib/python3.10/dist-packages/sklearn/base.py:439: UserWarning: X does not have valid feature names, but RandomForestClassifier was fitted with feature names\n",
            "  warnings.warn(\n"
          ]
        },
        {
          "output_type": "stream",
          "name": "stdout",
          "text": [
            "Website: https://www.nytimes.com\n",
            "Prediction: safe\n",
            "Label: safe\n",
            "\n"
          ]
        },
        {
          "output_type": "stream",
          "name": "stderr",
          "text": [
            "/usr/local/lib/python3.10/dist-packages/sklearn/base.py:439: UserWarning: X does not have valid feature names, but RandomForestClassifier was fitted with feature names\n",
            "  warnings.warn(\n"
          ]
        },
        {
          "output_type": "stream",
          "name": "stdout",
          "text": [
            "Website: https://www.theguardian.com\n",
            "Prediction: safe\n",
            "Label: safe\n",
            "\n"
          ]
        },
        {
          "output_type": "stream",
          "name": "stderr",
          "text": [
            "/usr/local/lib/python3.10/dist-packages/sklearn/base.py:439: UserWarning: X does not have valid feature names, but RandomForestClassifier was fitted with feature names\n",
            "  warnings.warn(\n",
            "/usr/local/lib/python3.10/dist-packages/sklearn/base.py:439: UserWarning: X does not have valid feature names, but RandomForestClassifier was fitted with feature names\n",
            "  warnings.warn(\n"
          ]
        },
        {
          "output_type": "stream",
          "name": "stdout",
          "text": [
            "Website: https://www.nationalgeographic.com\n",
            "Prediction: safe\n",
            "Label: safe\n",
            "\n",
            "Website: https://www.forbes.com\n",
            "Prediction: safe\n",
            "Label: safe\n",
            "\n"
          ]
        },
        {
          "output_type": "stream",
          "name": "stderr",
          "text": [
            "/usr/local/lib/python3.10/dist-packages/sklearn/base.py:439: UserWarning: X does not have valid feature names, but RandomForestClassifier was fitted with feature names\n",
            "  warnings.warn(\n"
          ]
        },
        {
          "output_type": "stream",
          "name": "stdout",
          "text": [
            "Website: https://www.businessinsider.com\n",
            "Prediction: safe\n",
            "Label: safe\n",
            "\n"
          ]
        },
        {
          "output_type": "stream",
          "name": "stderr",
          "text": [
            "/usr/local/lib/python3.10/dist-packages/sklearn/base.py:439: UserWarning: X does not have valid feature names, but RandomForestClassifier was fitted with feature names\n",
            "  warnings.warn(\n"
          ]
        },
        {
          "output_type": "stream",
          "name": "stdout",
          "text": [
            "Website: https://www.cnbc.com\n",
            "Prediction: safe\n",
            "Label: safe\n",
            "\n"
          ]
        },
        {
          "output_type": "stream",
          "name": "stderr",
          "text": [
            "/usr/local/lib/python3.10/dist-packages/sklearn/base.py:439: UserWarning: X does not have valid feature names, but RandomForestClassifier was fitted with feature names\n",
            "  warnings.warn(\n"
          ]
        },
        {
          "output_type": "stream",
          "name": "stdout",
          "text": [
            "Website: https://www.weather.com\n",
            "Prediction: safe\n",
            "Label: safe\n",
            "\n"
          ]
        },
        {
          "output_type": "stream",
          "name": "stderr",
          "text": [
            "/usr/local/lib/python3.10/dist-packages/sklearn/base.py:439: UserWarning: X does not have valid feature names, but RandomForestClassifier was fitted with feature names\n",
            "  warnings.warn(\n"
          ]
        },
        {
          "output_type": "stream",
          "name": "stdout",
          "text": [
            "Website: https://www.nba.com\n",
            "Prediction: safe\n",
            "Label: safe\n",
            "\n"
          ]
        },
        {
          "output_type": "stream",
          "name": "stderr",
          "text": [
            "/usr/local/lib/python3.10/dist-packages/sklearn/base.py:439: UserWarning: X does not have valid feature names, but RandomForestClassifier was fitted with feature names\n",
            "  warnings.warn(\n"
          ]
        },
        {
          "output_type": "stream",
          "name": "stdout",
          "text": [
            "Website: https://www.nfl.com\n",
            "Prediction: safe\n",
            "Label: safe\n",
            "\n"
          ]
        },
        {
          "output_type": "stream",
          "name": "stderr",
          "text": [
            "/usr/local/lib/python3.10/dist-packages/sklearn/base.py:439: UserWarning: X does not have valid feature names, but RandomForestClassifier was fitted with feature names\n",
            "  warnings.warn(\n"
          ]
        },
        {
          "output_type": "stream",
          "name": "stdout",
          "text": [
            "Website: https://www.mlb.com\n",
            "Prediction: safe\n",
            "Label: safe\n",
            "\n"
          ]
        },
        {
          "output_type": "stream",
          "name": "stderr",
          "text": [
            "/usr/local/lib/python3.10/dist-packages/sklearn/base.py:439: UserWarning: X does not have valid feature names, but RandomForestClassifier was fitted with feature names\n",
            "  warnings.warn(\n"
          ]
        },
        {
          "output_type": "stream",
          "name": "stdout",
          "text": [
            "Website: https://www.nhl.com\n",
            "Prediction: safe\n",
            "Label: safe\n",
            "\n"
          ]
        },
        {
          "output_type": "stream",
          "name": "stderr",
          "text": [
            "/usr/local/lib/python3.10/dist-packages/sklearn/base.py:439: UserWarning: X does not have valid feature names, but RandomForestClassifier was fitted with feature names\n",
            "  warnings.warn(\n"
          ]
        },
        {
          "output_type": "stream",
          "name": "stdout",
          "text": [
            "Website: https://www.espn.com\n",
            "Prediction: safe\n",
            "Label: safe\n",
            "\n"
          ]
        },
        {
          "output_type": "stream",
          "name": "stderr",
          "text": [
            "/usr/local/lib/python3.10/dist-packages/sklearn/base.py:439: UserWarning: X does not have valid feature names, but RandomForestClassifier was fitted with feature names\n",
            "  warnings.warn(\n"
          ]
        },
        {
          "output_type": "stream",
          "name": "stdout",
          "text": [
            "Website: https://www.rottentomatoes.com\n",
            "Prediction: safe\n",
            "Label: safe\n",
            "\n"
          ]
        },
        {
          "output_type": "stream",
          "name": "stderr",
          "text": [
            "/usr/local/lib/python3.10/dist-packages/sklearn/base.py:439: UserWarning: X does not have valid feature names, but RandomForestClassifier was fitted with feature names\n",
            "  warnings.warn(\n",
            "/usr/local/lib/python3.10/dist-packages/sklearn/base.py:439: UserWarning: X does not have valid feature names, but RandomForestClassifier was fitted with feature names\n",
            "  warnings.warn(\n"
          ]
        },
        {
          "output_type": "stream",
          "name": "stdout",
          "text": [
            "Website: https://www.goodreads.com\n",
            "Prediction: safe\n",
            "Label: safe\n",
            "\n",
            "Website: https://www.wikipedia.org\n",
            "Prediction: safe\n",
            "Label: safe\n",
            "\n"
          ]
        },
        {
          "output_type": "stream",
          "name": "stderr",
          "text": [
            "/usr/local/lib/python3.10/dist-packages/sklearn/base.py:439: UserWarning: X does not have valid feature names, but RandomForestClassifier was fitted with feature names\n",
            "  warnings.warn(\n"
          ]
        },
        {
          "output_type": "stream",
          "name": "stdout",
          "text": [
            "Website: https://www.quora.com\n",
            "Prediction: safe\n",
            "Label: safe\n",
            "\n"
          ]
        },
        {
          "output_type": "stream",
          "name": "stderr",
          "text": [
            "/usr/local/lib/python3.10/dist-packages/sklearn/base.py:439: UserWarning: X does not have valid feature names, but RandomForestClassifier was fitted with feature names\n",
            "  warnings.warn(\n"
          ]
        },
        {
          "output_type": "stream",
          "name": "stdout",
          "text": [
            "Website: https://www.medium.com\n",
            "Prediction: safe\n",
            "Label: safe\n",
            "\n"
          ]
        },
        {
          "output_type": "stream",
          "name": "stderr",
          "text": [
            "/usr/local/lib/python3.10/dist-packages/sklearn/base.py:439: UserWarning: X does not have valid feature names, but RandomForestClassifier was fitted with feature names\n",
            "  warnings.warn(\n"
          ]
        },
        {
          "output_type": "stream",
          "name": "stdout",
          "text": [
            "Website: https://www.wired.com\n",
            "Prediction: safe\n",
            "Label: safe\n",
            "\n"
          ]
        },
        {
          "output_type": "stream",
          "name": "stderr",
          "text": [
            "/usr/local/lib/python3.10/dist-packages/sklearn/base.py:439: UserWarning: X does not have valid feature names, but RandomForestClassifier was fitted with feature names\n",
            "  warnings.warn(\n"
          ]
        },
        {
          "output_type": "stream",
          "name": "stdout",
          "text": [
            "Website: https://www.techcrunch.com\n",
            "Prediction: safe\n",
            "Label: safe\n",
            "\n"
          ]
        },
        {
          "output_type": "stream",
          "name": "stderr",
          "text": [
            "/usr/local/lib/python3.10/dist-packages/sklearn/base.py:439: UserWarning: X does not have valid feature names, but RandomForestClassifier was fitted with feature names\n",
            "  warnings.warn(\n"
          ]
        },
        {
          "output_type": "stream",
          "name": "stdout",
          "text": [
            "Website: https://www.engadget.com\n",
            "Prediction: safe\n",
            "Label: safe\n",
            "\n",
            "Website: https://www.lifehacker.com\n",
            "Prediction: safe\n",
            "Label: safe\n",
            "\n"
          ]
        },
        {
          "output_type": "stream",
          "name": "stderr",
          "text": [
            "/usr/local/lib/python3.10/dist-packages/sklearn/base.py:439: UserWarning: X does not have valid feature names, but RandomForestClassifier was fitted with feature names\n",
            "  warnings.warn(\n"
          ]
        }
      ],
      "source": [
        "import pandas as pd\n",
        "import requests\n",
        "from bs4 import BeautifulSoup\n",
        "import numpy as np\n",
        "import joblib\n",
        "from sklearn.metrics import classification_report\n",
        "\n",
        "# Load the extracted features from the CSV file\n",
        "data = pd.read_csv('/content/drive/MyDrive/FYP_Testing&WhatNot/elijah_features.csv')\n",
        "\n",
        "# Define the desired features to keep\n",
        "desired_features = ['script_length', 'text_detection','num_scripts', 'num_functions', 'num_eval', 'num_window', 'num_setTimeout',\n",
        "                    'num_setInterval', 'num_exec', 'num_cookie', 'num_location', 'num_XMLHttpRequest', 'num_iframe',\n",
        "                    'num_document_cookie', 'num_unescape', 'num_fromCharCode']\n",
        "\n",
        "# Filter the features to keep only the desired ones\n",
        "X = data[desired_features]\n",
        "y = data['label']\n",
        "\n",
        "# Load the pre-trained model from the joblib file\n",
        "clf = joblib.load('/content/drive/MyDrive/FYP_Testing&WhatNot/model_elijah.joblib')\n",
        "\n",
        "# Load the CSV file with websites and labels\n",
        "website_data = pd.read_csv('/content/drive/MyDrive/FYP_Testing&WhatNot/elijah_features.csv')\n",
        "\n",
        "# Iterate over the websites in the CSV file\n",
        "for i, row in website_data.iterrows():\n",
        "    website_url = row['url']\n",
        "    label = row['label']\n",
        "\n",
        "    try:\n",
        "        # Send a GET request to the website URL\n",
        "        response = requests.get(website_url)\n",
        "\n",
        "        # Check for HTTP errors\n",
        "        response.raise_for_status()\n",
        "\n",
        "    except requests.HTTPError:\n",
        "        print(f\"Website {website_url} is unreachable\")\n",
        "        continue\n",
        "\n",
        "    except requests.RequestException:\n",
        "        print(f\"An error occurred while accessing the website {website_url}\")\n",
        "        continue\n",
        "\n",
        "    # Extract features from the website JavaScript content\n",
        "    js_content = []\n",
        "    soup = BeautifulSoup(response.content, 'html.parser')\n",
        "    scripts = soup.find_all('script')\n",
        "\n",
        "    if len(scripts) == 0:\n",
        "        print(f\"Status of website {website_url} is unknown due to the absence of scripts to filter!\")\n",
        "        continue\n",
        "\n",
        "    for script in scripts:\n",
        "        js_content.append(script.string)\n",
        "\n",
        "    # Extract the desired features from the JavaScript content\n",
        "    js_features = []\n",
        "    for feature_name in X.columns:\n",
        "        feature_count = sum(script.count(feature_name) for script in js_content if script is not None)\n",
        "        js_features.append(feature_count)\n",
        "\n",
        "    # Convert the features into a numpy array\n",
        "    website_features = np.array(js_features).reshape(1, -1)\n",
        "\n",
        "    if website_features.size == 0:\n",
        "        print(f\"Status of website {website_url} is unknown due to the absence of features!\")\n",
        "        continue\n",
        "\n",
        "    # Make a prediction using the trained model\n",
        "    prediction_prob = clf.predict_proba(website_features)\n",
        "    threshold = 0.45  # Adjust the threshold as needed\n",
        "    if prediction_prob[0][1] >= threshold:\n",
        "        prediction = 'phishing'\n",
        "    else:\n",
        "        prediction = 'safe'\n",
        "\n",
        "    # Display the prediction result and compare with the label\n",
        "    print(f\"Website: {website_url}\")\n",
        "    print(f\"Prediction: {prediction}\")\n",
        "    print(f\"Label: {label}\")\n",
        "    print()\n",
        "\n"
      ]
    },
    {
      "cell_type": "markdown",
      "source": [
        "I was testing the prediction model with random websites from the internet and it still comes up as a false positive ):\n",
        "\n",
        "Sometimes the prediction model also comes up with a \"scripts cannot be extracted\" error to break up the monotony xD"
      ],
      "metadata": {
        "id": "TIjeseUU4cFX"
      }
    },
    {
      "cell_type": "code",
      "source": [
        "import requests\n",
        "from bs4 import BeautifulSoup\n",
        "import numpy as np\n",
        "import joblib\n",
        "\n",
        "# Prompt the user to enter a website URL\n",
        "website_url = input(\"Enter a website URL: \")\n",
        "\n",
        "# Extract features from the website JavaScript content\n",
        "js_content = []\n",
        "response = requests.get(website_url)\n",
        "soup = BeautifulSoup(response.content, 'html.parser')\n",
        "scripts = soup.find_all('script')\n",
        "\n",
        "if len(scripts) == 0:\n",
        "    print(\"Status unknown due to the absence of scripts to filter!\")\n",
        "    exit()\n",
        "\n",
        "for script in scripts:\n",
        "    js_content.append(script.string)\n",
        "\n",
        "# Extract the desired features from the JavaScript content\n",
        "js_features = []\n",
        "for feature_name in X.columns:\n",
        "    feature_count = sum(script.count(feature_name) for script in js_content if script is not None)\n",
        "    js_features.append(feature_count)\n",
        "\n",
        "# Convert the features into a numpy array\n",
        "website_features = np.array(js_features).reshape(1, -1)\n",
        "\n",
        "if website_features.size == 0:\n",
        "    print(\"Status unknown due to the absence of features!\")\n",
        "    exit()\n",
        "\n",
        "# Load the trained model\n",
        "model = joblib.load('trained_model.joblib')\n",
        "\n",
        "# Make a prediction using the trained model\n",
        "prediction = model.predict(website_features)\n",
        "\n",
        "# Display the prediction result\n",
        "if prediction[0] == 1:\n",
        "    print(\"The website is classified as phishing.\")\n",
        "else:\n",
        "    print(\"The website is classified as safe.\")\n"
      ],
      "metadata": {
        "id": "cnz3SygRwK0i"
      },
      "execution_count": null,
      "outputs": []
    },
    {
      "cell_type": "markdown",
      "source": [
        "I got frustrated and trained the model again, this time with some specifics - stuff like weighted average, precision, recall, f1-score and support."
      ],
      "metadata": {
        "id": "5ZYHpxzY36H3"
      }
    },
    {
      "cell_type": "code",
      "source": [
        "import pandas as pd\n",
        "from sklearn.model_selection import train_test_split\n",
        "from sklearn.ensemble import RandomForestClassifier\n",
        "from sklearn.metrics import classification_report\n",
        "import joblib\n",
        "\n",
        "# Load the dataset\n",
        "data = pd.read_csv('/content/drive/MyDrive/FYP_Testing&WhatNot/elijah_features.csv')\n",
        "\n",
        "# Split the dataset into features (X) and labels (y)\n",
        "X = data.drop(['url', 'label'], axis=1)\n",
        "y = data['label']\n",
        "\n",
        "# Split the data into training and testing sets\n",
        "X_train, X_test, y_train, y_test = train_test_split(X, y, test_size=0.2, random_state=42)\n",
        "\n",
        "# Instantiate the Random Forest Classifier\n",
        "clf = RandomForestClassifier()\n",
        "\n",
        "# Train the model\n",
        "clf.fit(X_train, y_train)\n",
        "\n",
        "# Make predictions on the test set\n",
        "y_pred = clf.predict(X_test)\n",
        "\n",
        "# Evaluate the model\n",
        "print(classification_report(y_test, y_pred))\n",
        "\n",
        "# Save the trained model\n",
        "joblib.dump(clf, '/content/drive/MyDrive/FYP_Testing&WhatNot/model_elijah.joblib')\n"
      ],
      "metadata": {
        "colab": {
          "base_uri": "https://localhost:8080/"
        },
        "id": "bXEgbkSKeoMV",
        "outputId": "74e06e02-7bc4-4e71-c089-54977f811b49"
      },
      "execution_count": 20,
      "outputs": [
        {
          "output_type": "stream",
          "name": "stdout",
          "text": [
            "              precision    recall  f1-score   support\n",
            "\n",
            "    phishing       0.88      0.78      0.82         9\n",
            "        safe       0.90      0.95      0.92        19\n",
            "\n",
            "    accuracy                           0.89        28\n",
            "   macro avg       0.89      0.86      0.87        28\n",
            "weighted avg       0.89      0.89      0.89        28\n",
            "\n"
          ]
        },
        {
          "output_type": "execute_result",
          "data": {
            "text/plain": [
              "['/content/drive/MyDrive/FYP_Testing&WhatNot/model_elijah.joblib']"
            ]
          },
          "metadata": {},
          "execution_count": 20
        }
      ]
    },
    {
      "cell_type": "markdown",
      "source": [
        "My first go at training the model, it only takes in the JavaScript features. Keep it a stack with you I'm going to change the features, it might be the features causing the false positives."
      ],
      "metadata": {
        "id": "_v085_oy4NoJ"
      }
    },
    {
      "cell_type": "code",
      "execution_count": null,
      "metadata": {
        "colab": {
          "base_uri": "https://localhost:8080/"
        },
        "id": "1tzue-0UJ_Bg",
        "outputId": "1791d616-44bf-4eea-d82a-a3d781e1dc4c"
      },
      "outputs": [
        {
          "name": "stdout",
          "output_type": "stream",
          "text": [
            "No scripts found on the website: http://site9548676.92.webydo.com/\n",
            "No scripts found on the website: https://homeapks.com/wp-content/WesBav2/\n",
            "No scripts found on the website: https://www.tesdi.mx/pack/\n",
            "No scripts found on the website: https://gateway.ipfs.io/ipfs/bafybeic6sjz65ptdmfzxsj4nfboyyu4c7t5kwz5uwqh6tr7rfkdhw737dm/g46h-0o-0dol3-05gkj-95ghw-enfh-934ufhf.html\n",
            "No scripts found on the website: https://ipfs.eth.aragon.network/ipfs/bafybeif65xcjv5hq2lpmhjjhaufqkx3hps5vjd5entcixn46ilofmsvs4i/roundcube\n"
          ]
        },
        {
          "name": "stderr",
          "output_type": "stream",
          "text": [
            "<ipython-input-6-4777ccff35d3>:16: MarkupResemblesLocatorWarning: The input looks more like a filename than markup. You may want to open this file and pass the filehandle into Beautiful Soup.\n",
            "  soup = BeautifulSoup(response.text, 'html.parser')\n"
          ]
        },
        {
          "name": "stdout",
          "output_type": "stream",
          "text": [
            "No scripts found on the website: https://cloudflare-ipfs.com/ipfs/bafybeif65xcjv5hq2lpmhjjhaufqkx3hps5vjd5entcixn46ilofmsvs4i/others\n",
            "No scripts found on the website: https://53467michsafeul345667.web.app/\n",
            "No scripts found on the website: https://53467michsafeul345667.firebaseapp.com/\n",
            "No scripts found on the website: http://breton-gille.com/hb/\n",
            "No scripts found on the website: http://breton-gille.com/hb\n",
            "No scripts found on the website: http://racingallesand.wpenginepowered.com/\n",
            "No scripts found on the website: http://mercedesbenzsl.wpenginepowered.com/\n",
            "No scripts found on the website: https://www.microsoft.com/\n",
            "No scripts found on the website: http://enzoferrari356.wpenginepowered.com/\n",
            "No scripts found on the website: https://ugde.magichecoccole.com/de/ugde/79fVEv8XxeVx7491/login.php?Nk65L7l2kcar75cI7f00eJ7ybyI0rpQh0w16x7P1qFSQQtcmdZKCZFzJikQ1gZHRi3wQtl9l6nCHOsxDcDw6dTrguz7tF7mixwY8hgZqWPRC27sSrMwiBKeA#781e5e245d69b566979b86e28d23f2c7%23781e5e245d69b566979b86e28d23f2c7%23781e5e245d69b566979b86e28d23f2c7\n",
            "No scripts found on the website: http://43.153.100.119\n",
            "No scripts found on the website: http://103.80.134.85\n",
            "No scripts found on the website: http://ianchai.lomaikai.com/sdba/\n",
            "No scripts found on the website: https://facbok-logncmjvmdk.rgsmod2.cfd/vhsfhqpdhdxih1/\n",
            "No scripts found on the website: https://1blu.nabumbo.com/de/ugde/79fVEv8XxeVx7663/login.php\n",
            "No scripts found on the website: http://bafybeiekuj5hjv65vkzuujsqjm6npjlclh35u3jjqqtakieowszrdpiy7q.ipfs.cf-ipfs.com/\n",
            "No scripts found on the website: https://gateway.ipfs.io/ipfs/QmaNx6UtZdzf2bAAnGjkCdvy8TUvMQZkqWu7B26AuvouXq\n",
            "No scripts found on the website: https://klik-dsini-untuk-aktivasi.web.app/\n",
            "No scripts found on the website: https://klik-dsini-untuk-aktivasi.firebaseapp.com/\n",
            "No scripts found on the website: https://layanan-aktivasi-bifast-bca.web.app/\n",
            "No scripts found on the website: https://layanan-aktivasi-bifast-bca.firebaseapp.com/\n",
            "No scripts found on the website: https://meta-business-base-a57d0.web.app/\n",
            "No scripts found on the website: https://meta-business-base-a57d0.firebaseapp.com/\n",
            "No scripts found on the website: https://meta-business-case-44ccd.web.app/\n",
            "No scripts found on the website: https://meta-business-case-44ccd.firebaseapp.com/\n",
            "No scripts found on the website: https://meta-business-case-77cd6.web.app/\n",
            "No scripts found on the website: https://meta-business-case-77cd6.firebaseapp.com/\n",
            "No scripts found on the website: https://meta-business-fb-ads.web.app/\n",
            "No scripts found on the website: https://meta-business-fb-ads.firebaseapp.com/\n",
            "No scripts found on the website: https://safetice-daum.web.app/\n",
            "No scripts found on the website: https://safetice-daum.firebaseapp.com/\n",
            "No scripts found on the website: https://project-4619833971815404853.web.app/\n",
            "No scripts found on the website: https://project-4619833971815404853.firebaseapp.com/\n"
          ]
        }
      ],
      "source": [
        "import requests\n",
        "from bs4 import BeautifulSoup\n",
        "import re\n",
        "from urllib.parse import urlparse\n",
        "import pandas as pd\n",
        "import ssl\n",
        "from datetime import datetime\n",
        "\n",
        "# Disable SSL certificate verification\n",
        "ssl._create_default_https_context = ssl._create_unverified_context\n",
        "\n",
        "# Define a function to extract JavaScript features from a website\n",
        "def extract_js_features(url):\n",
        "    try:\n",
        "        response = requests.get(url)\n",
        "        soup = BeautifulSoup(response.text, 'html.parser')\n",
        "        scripts = soup.find_all('script')\n",
        "\n",
        "        # Check if there are scripts to extract features from\n",
        "        if len(scripts) == 0:\n",
        "            print(\"No scripts found on the website:\", url)\n",
        "            return None\n",
        "\n",
        "        script_content = [script.text for script in scripts]\n",
        "        script_string = \"\\n\".join(script_content)\n",
        "\n",
        "        # Extract the URL length\n",
        "        url_length = len(urlparse(url).path)\n",
        "\n",
        "        features = []\n",
        "        # Extract JavaScript features\n",
        "        features.append(len(script_string))\n",
        "        features.append(len(scripts))\n",
        "        features.append(len(re.findall(r\"\\bfunction\\b\", script_string)))\n",
        "        features.append(len(re.findall(r\"\\beval\\b\", script_string)))\n",
        "        features.append(len(re.findall(r\"\\bwindow\\b\", script_string)))\n",
        "        features.append(len(re.findall(r\"\\bsetTimeout\\b\", script_string)))\n",
        "        features.append(len(re.findall(r\"\\bsetInterval\\b\", script_string)))\n",
        "        features.append(len(re.findall(r\"\\bexec\\b\", script_string)))\n",
        "        features.append(len(re.findall(r\"\\bcookie\\b\", script_string)))\n",
        "        features.append(len(re.findall(r\"\\blocation\\b\", script_string)))\n",
        "        features.append(len(re.findall(r\"\\bXMLHttpRequest\\b\", script_string)))\n",
        "        features.append(len(re.findall(r\"\\biframe\\b\", script_string)))\n",
        "        features.append(len(re.findall(r\"\\bdocument\\.cookie\\b\", script_string)))\n",
        "        features.append(len(re.findall(r\"\\bunescape\\b\", script_string)))\n",
        "        features.append(len(re.findall(r\"\\bfromCharCode\\b\", script_string)))\n",
        "\n",
        "        # Replace the domain age feature with the URL length\n",
        "        features.append(url_length)\n",
        "\n",
        "        # Check SSL certificate information\n",
        "        ssl_info = ssl.get_server_certificate((urlparse(url).hostname, 443))\n",
        "        x509 = ssl.load_certificate(ssl.PEM, ssl_info)\n",
        "        cert_info = x509.get_subject()\n",
        "        expiry_date = datetime.strptime(cert_info.get_notAfter().decode('ascii'), \"%Y%m%d%H%M%SZ\")\n",
        "        days_until_expiry = (expiry_date - datetime.now()).days\n",
        "        features.append(days_until_expiry)\n",
        "\n",
        "        return features\n",
        "    except:\n",
        "        return None\n",
        "\n",
        "# Load the CSV file with original data\n",
        "original_df = pd.read_csv(\"/content/drive/MyDrive/FYP_Testing&WhatNot/website list - Sheet1-5 - website list - Sheet1-5.csv\")\n",
        "\n",
        "# Create an empty DataFrame to store the extracted features\n",
        "feature_df = pd.DataFrame(columns=[\"url\", \"script_length\", \"num_scripts\", \"num_functions\", \"num_eval\", \"num_window\", \"num_setTimeout\", \"num_setInterval\", \"num_exec\", \"num_cookie\", \"num_location\", \"num_XMLHttpRequest\", \"num_iframe\", \"num_document_cookie\", \"num_unescape\", \"num_fromCharCode\", \"url_length\", \"days_until_expiry\"])\n",
        "\n",
        "# Loop through each website and extract features\n",
        "for url in original_df[\"url\"]:\n",
        "    features = extract_js_features(url)\n",
        "    if features:\n",
        "        feature_df = feature_df.append(pd.Series([url] + features, index=feature_df.columns), ignore_index=True)\n",
        "\n",
        "# Merge the extracted features DataFrame with the original DataFrame on the \"url\" column\n",
        "merged_df = pd.merge(original_df, feature_df, on=\"url\")\n",
        "\n",
        "# Save the merged DataFrame to a CSV file\n",
        "merged_df.to_csv(\"/content/drive/MyDrive/FYP_Testing&WhatNot/javascript_features.csv\", index=False)\n",
        "\n"
      ]
    }
  ],
  "metadata": {
    "colab": {
      "provenance": []
    },
    "kernelspec": {
      "display_name": "Python 3",
      "name": "python3"
    },
    "language_info": {
      "name": "python"
    }
  },
  "nbformat": 4,
  "nbformat_minor": 0
}
